{
  "nbformat": 4,
  "nbformat_minor": 0,
  "metadata": {
    "colab": {
      "name": "Code LSTM-CNN Image Captioning.ipynb",
      "provenance": [],
      "collapsed_sections": [],
      "include_colab_link": true
    },
    "kernelspec": {
      "name": "python3",
      "display_name": "Python 3"
    },
    "accelerator": "GPU"
  },
  "cells": [
    {
      "cell_type": "markdown",
      "metadata": {
        "id": "view-in-github",
        "colab_type": "text"
      },
      "source": [
        "<a href=\"https://colab.research.google.com/github/nouvalhs/image_captioning/blob/main/Code_LSTM_CNN_Image_Captioning.ipynb\" target=\"_parent\"><img src=\"https://colab.research.google.com/assets/colab-badge.svg\" alt=\"Open In Colab\"/></a>"
      ]
    },
    {
      "cell_type": "markdown",
      "metadata": {
        "id": "HUkEQp03E3el"
      },
      "source": [
        "## Koneksi ke GDRIVE\n",
        "\n",
        "Hal ini dilakukan agar dapat terhubung dengan data yang akan diproses dalam pemodelan."
      ]
    },
    {
      "cell_type": "code",
      "metadata": {
        "id": "O2IgFkQZVgqw"
      },
      "source": [
        "#Code untuk connect to gdrive\n",
        "from google.colab import drive\n",
        "drive.mount('/content/drive', force_remount=True)"
      ],
      "execution_count": null,
      "outputs": []
    },
    {
      "cell_type": "markdown",
      "metadata": {
        "id": "ecvdKcnqZH-P"
      },
      "source": [
        "## Memasukan Modul \n",
        "\n",
        "Memasukan modul yang digunakan untuk memproses data dalam pemodelan."
      ]
    },
    {
      "cell_type": "code",
      "metadata": {
        "id": "EEUMNhrpWxt-"
      },
      "source": [
        "# Import all libraries\n",
        "import numpy as np\n",
        "from numpy import array\n",
        "\n",
        "import pandas as pd\n",
        "\n",
        "from matplotlib import pyplot\n",
        "from matplotlib.image import imread\n",
        "import matplotlib.pyplot as plt\n",
        "%matplotlib inline\n",
        "\n",
        "import random\n",
        "import string\n",
        "import os\n",
        "from PIL import Image\n",
        "import glob\n",
        "\n",
        "import pickle\n",
        "from pickle import dump, load\n",
        "from time import time\n",
        "from IPython.display import Image, display\n",
        "from IPython.core.display import display, HTML\n",
        "\n",
        "from keras import Input, layers\n",
        "from keras import optimizers\n",
        "from keras.preprocessing import sequence\n",
        "from keras.preprocessing import image, sequence\n",
        "from keras.preprocessing.text import Tokenizer\n",
        "from keras.preprocessing.sequence import pad_sequences\n",
        "from keras.layers import LSTM, Embedding, TimeDistributed, Dense, RepeatVector,\\\n",
        "                         Activation, Flatten, Reshape, Concatenate, Dropout, BatchNormalization\n",
        "from keras.layers import Flatten, Input, Convolution2D, TimeDistributed, Bidirectional\n",
        "from keras.layers.wrappers import Bidirectional\n",
        "from keras.layers.merge import add\n",
        "from keras.optimizers import Adam, RMSprop\n",
        "from keras.models import Sequential, Model\n",
        "from keras.applications.inception_v3 import preprocess_input\n",
        "from keras.applications.resnet50 import ResNet50\n",
        "from keras.applications.inception_v3 import InceptionV3\n",
        "from keras.utils import to_categorical\n",
        "from keras.utils import np_utils\n",
        "from keras.models import load_model"
      ],
      "execution_count": null,
      "outputs": []
    },
    {
      "cell_type": "markdown",
      "metadata": {
        "id": "QOEax2xmbW7H"
      },
      "source": [
        "## Memasukan Data\n",
        "\n",
        "Dalam hal ini melakukan akses data ke Gdrive"
      ]
    },
    {
      "cell_type": "code",
      "metadata": {
        "id": "1c05CcWmUF5L"
      },
      "source": [
        "#Load data\n",
        "images_dir = os.listdir(\"/content/drive/My Drive/RepSession_DSI/Data_Image_Captioning_Flickr8K/Flickr_Data/\")\n",
        "\n",
        "images_path = \"/content/drive/My Drive/RepSession_DSI/Data_Image_Captioning_Flickr8K/Flickr_Data/Images/\"\n",
        "captions_path = \"/content/drive/My Drive/RepSession_DSI/Data_Image_Captioning_Flickr8K/Flickr_Data/Flickr_TextData/Flickr8k.token.txt\"\n",
        "\n",
        "#Pembagian data menjadi data train, data validasi dan data test\n",
        "train_path = \"/content/drive/My Drive/RepSession_DSI/Data_Image_Captioning_Flickr8K/Flickr_Data/Flickr_TextData/Flickr_8k.trainImages.txt\"\n",
        "val_path = \"/content/drive/My Drive/RepSession_DSI/Data_Image_Captioning_Flickr8K/Flickr_Data/Flickr_TextData/Flickr_8k.devImages.txt\"\n",
        "test_path = \"/content/drive/My Drive/RepSession_DSI/Data_Image_Captioning_Flickr8K/Flickr_Data/Flickr_TextData/Flickr_8k.testImages.txt\"\n",
        "\n",
        "#membuka data \n",
        "captions = open(captions_path, 'r').read().split(\"\\n\")\n",
        "x_train = open(train_path, 'r').read().split(\"\\n\")\n",
        "x_val = open(val_path, 'r').read().split(\"\\n\")\n",
        "x_test = open(test_path, 'r').read().split(\"\\n\")"
      ],
      "execution_count": null,
      "outputs": []
    },
    {
      "cell_type": "code",
      "metadata": {
        "id": "Oasf5n7aayIw",
        "colab": {
          "base_uri": "https://localhost:8080/",
          "height": 89
        },
        "outputId": "8b08fa61-f03a-44e8-f64e-a4a926d41087"
      },
      "source": [
        "#Melihat data pertama dari captions, x_train\n",
        "display(captions[0])\n",
        "display(x_train[0])\n",
        "display(x_val[0])\n",
        "display(x_test[0])"
      ],
      "execution_count": null,
      "outputs": [
        {
          "output_type": "display_data",
          "data": {
            "application/vnd.google.colaboratory.intrinsic+json": {
              "type": "string"
            },
            "text/plain": [
              "'1000268201_693b08cb0e.jpg#0\\tA child in a pink dress is climbing up a set of stairs in an entry way .'"
            ]
          },
          "metadata": {
            "tags": []
          }
        },
        {
          "output_type": "display_data",
          "data": {
            "application/vnd.google.colaboratory.intrinsic+json": {
              "type": "string"
            },
            "text/plain": [
              "'2513260012_03d33305cf.jpg'"
            ]
          },
          "metadata": {
            "tags": []
          }
        },
        {
          "output_type": "display_data",
          "data": {
            "application/vnd.google.colaboratory.intrinsic+json": {
              "type": "string"
            },
            "text/plain": [
              "'2090545563_a4e66ec76b.jpg'"
            ]
          },
          "metadata": {
            "tags": []
          }
        },
        {
          "output_type": "display_data",
          "data": {
            "application/vnd.google.colaboratory.intrinsic+json": {
              "type": "string"
            },
            "text/plain": [
              "'3385593926_d3e9c21170.jpg'"
            ]
          },
          "metadata": {
            "tags": []
          }
        }
      ]
    },
    {
      "cell_type": "markdown",
      "metadata": {
        "id": "q7HayIZFcOmu"
      },
      "source": [
        "## Melihat Sampel Data\n",
        "\n",
        "- Membuka data sebagai dictionary dimana gambar sebagai key dan caption sebagai value\n",
        "- Melihat salah satu data yang sudah dibentuk menjadi dictionary \n",
        "- Terkait dataset: 1 gambar diberikan deskripsi oleh 5 responden "
      ]
    },
    {
      "cell_type": "code",
      "metadata": {
        "id": "Qrd07EBYUjg9"
      },
      "source": [
        "# Loading captions as values and images as key in dictionary\n",
        "tokens = {}\n",
        "for ix in range(len(captions)-1):\n",
        "    temp = captions[ix].split(\"#\")\n",
        "    if temp[0] in tokens:\n",
        "        tokens[temp[0]].append(temp[1][2:])\n",
        "    else:\n",
        "        tokens[temp[0]] = [temp[1][2:]]"
      ],
      "execution_count": null,
      "outputs": []
    },
    {
      "cell_type": "code",
      "metadata": {
        "id": "BD7H83DmUx8m",
        "colab": {
          "base_uri": "https://localhost:8080/",
          "height": 504
        },
        "outputId": "8140c967-35c4-4fe9-f796-7330f1104387"
      },
      "source": [
        "# displaying an image and captions given to it\n",
        "temp = captions[10].split(\"#\")\n",
        "z = Image(filename=images_path+temp[0])\n",
        "display(z)\n",
        "\n",
        "for ix in range(len(tokens[temp[0]])):\n",
        "    print(tokens[temp[0]][ix])"
      ],
      "execution_count": null,
      "outputs": [
        {
          "output_type": "display_data",
          "data": {
            "image/jpeg": "[encoded data removed]",
            "text/plain": [
              "<IPython.core.display.Image object>"
            ]
          },
          "metadata": {
            "tags": []
          }
        },
        {
          "output_type": "stream",
          "text": [
            "A little girl covered in paint sits in front of a painted rainbow with her hands in a bowl .\n",
            "A little girl is sitting in front of a large painted rainbow .\n",
            "A small girl in the grass plays with fingerpaints in front of a white canvas with a rainbow on it .\n",
            "There is a girl with pigtails sitting in front of a rainbow painting .\n",
            "Young girl with pigtails painting outside in the grass .\n"
          ],
          "name": "stdout"
        }
      ]
    },
    {
      "cell_type": "markdown",
      "metadata": {
        "id": "L2s6w8xWcanm"
      },
      "source": [
        "## Membagi Data\n",
        "\n",
        "- Pembagian data untuk pemodelan dibagi menjadi data train, data validasi, dan data test. \n",
        "- Pembagian data ini berdasarkan hasil data yang sudah dibuat menjadi dictionary tadi"
      ]
    },
    {
      "cell_type": "code",
      "metadata": {
        "id": "Wx666iJwU3Dm",
        "colab": {
          "base_uri": "https://localhost:8080/",
          "height": 35
        },
        "outputId": "d8745efb-997a-4f07-8e10-7c2e1ed2fbc3"
      },
      "source": [
        "# Creating train, test and validation dataset files with header as 'image_id' and 'captions'\n",
        "train_dataset = open('/content/drive/My Drive/RepSession_DSI/Data_Image_Captioning_Flickr8K/Flickr_Data/Result/flickr_8k_train_dataset.txt','wb')\n",
        "train_dataset.write(b\"image_id\\tcaptions\\n\")\n",
        "\n",
        "val_dataset = open('/content/drive/My Drive/RepSession_DSI/Data_Image_Captioning_Flickr8K/Flickr_Data/Result/flickr_8k_val_dataset.txt','wb')\n",
        "val_dataset.write(b\"image_id\\tcaptions\\n\")\n",
        "\n",
        "test_dataset = open('/content/drive/My Drive/RepSession_DSI/Data_Image_Captioning_Flickr8K/Flickr_Data/Result/flickr_8k_test_dataset.txt','wb')\n",
        "test_dataset.write(b\"image_id\\tcaptions\\n\")"
      ],
      "execution_count": null,
      "outputs": [
        {
          "output_type": "execute_result",
          "data": {
            "text/plain": [
              "18"
            ]
          },
          "metadata": {
            "tags": []
          },
          "execution_count": 21
        }
      ]
    },
    {
      "cell_type": "markdown",
      "metadata": {
        "id": "iIRHOzgucnbU"
      },
      "source": [
        "## Hasil Membagi Data\n",
        "\n",
        "- Data disimpan dalam suatu tempat/wadah terbuka\n",
        "- Kemudian tempat/wadah tersebut ditutup\n",
        "\n"
      ]
    },
    {
      "cell_type": "code",
      "metadata": {
        "id": "b1N6RQgGU5yg"
      },
      "source": [
        "# Populating the above created files for train, test and validation dataset with image ids and captions for each of these images\n",
        "for img in x_train:\n",
        "    if img == '':\n",
        "        continue\n",
        "    for capt in tokens[img]:\n",
        "        caption = \"<start> \"+ capt + \" <end>\"\n",
        "        train_dataset.write((img+\"\\t\"+caption+\"\\n\").encode())\n",
        "        train_dataset.flush()\n",
        "train_dataset.close()\n",
        "\n",
        "for img in x_test:\n",
        "    if img == '':\n",
        "        continue\n",
        "    for capt in tokens[img]:\n",
        "        caption = \"<start> \"+ capt + \" <end>\"\n",
        "        test_dataset.write((img+\"\\t\"+caption+\"\\n\").encode())\n",
        "        test_dataset.flush()\n",
        "test_dataset.close()\n",
        "\n",
        "for img in x_val:\n",
        "    if img == '':\n",
        "        continue\n",
        "    for capt in tokens[img]:\n",
        "        caption = \"<start> \"+ capt + \" <end>\"\n",
        "        val_dataset.write((img+\"\\t\"+caption+\"\\n\").encode())\n",
        "        val_dataset.flush()\n",
        "val_dataset.close()"
      ],
      "execution_count": null,
      "outputs": []
    },
    {
      "cell_type": "code",
      "metadata": {
        "id": "ZNi9UIVgisXq",
        "colab": {
          "base_uri": "https://localhost:8080/",
          "height": 69
        },
        "outputId": "5f2a1917-a64e-48ef-c2e3-75d91448a390"
      },
      "source": [
        "display(train_dataset)\n",
        "display(test_dataset)\n",
        "display(val_dataset)"
      ],
      "execution_count": null,
      "outputs": [
        {
          "output_type": "display_data",
          "data": {
            "text/plain": [
              "<_io.BufferedWriter name='/content/drive/My Drive/RepSession_DSI/Data_Image_Captioning_Flickr8K/Flickr_Data/Result/flickr_8k_train_dataset.txt'>"
            ]
          },
          "metadata": {
            "tags": []
          }
        },
        {
          "output_type": "display_data",
          "data": {
            "text/plain": [
              "<_io.BufferedWriter name='/content/drive/My Drive/RepSession_DSI/Data_Image_Captioning_Flickr8K/Flickr_Data/Result/flickr_8k_test_dataset.txt'>"
            ]
          },
          "metadata": {
            "tags": []
          }
        },
        {
          "output_type": "display_data",
          "data": {
            "text/plain": [
              "<_io.BufferedWriter name='/content/drive/My Drive/RepSession_DSI/Data_Image_Captioning_Flickr8K/Flickr_Data/Result/flickr_8k_val_dataset.txt'>"
            ]
          },
          "metadata": {
            "tags": []
          }
        }
      ]
    },
    {
      "cell_type": "markdown",
      "metadata": {
        "id": "ARxjur_Mc5Ux"
      },
      "source": [
        "## Mendefinisikan Model\n",
        "\n",
        "Dalam hal ini mendefinisikan model dan menampilkan hasil ringkasan model yang telah dibuat (Membangun Arsitektur). \n",
        "\n",
        "\n",
        "##### Catatan: Model yang digunakan adalah ResNet50"
      ]
    },
    {
      "cell_type": "code",
      "metadata": {
        "id": "WKqrEfotU9s_",
        "colab": {
          "base_uri": "https://localhost:8080/",
          "height": 1000
        },
        "outputId": "d15ba467-7ec5-452a-da12-a9bf2bb98321"
      },
      "source": [
        "# Loading 50 layer Residual Network Model and getting the summary of the model\n",
        "display(HTML(\"\"\"<a href=\"http://ethereon.github.io/netscope/#/gist/db945b393d40bfa26006\">ResNet50 Architecture</a>\"\"\"))\n",
        "model = ResNet50(include_top=False,weights='imagenet',input_shape=(224,224,3),pooling='avg')\n",
        "model.summary()\n",
        "\n",
        "# Note: For more details on ResNet50 architecture you can click on hyperlink given below"
      ],
      "execution_count": null,
      "outputs": [
        {
          "output_type": "display_data",
          "data": {
            "text/html": [
              "<a href=\"http://ethereon.github.io/netscope/#/gist/db945b393d40bfa26006\">ResNet50 Architecture</a>"
            ],
            "text/plain": [
              "<IPython.core.display.HTML object>"
            ]
          },
          "metadata": {
            "tags": []
          }
        },
        {
          "output_type": "stream",
          "text": [
            "Downloading data from https://storage.googleapis.com/tensorflow/keras-applications/resnet/resnet50_weights_tf_dim_ordering_tf_kernels_notop.h5\n",
            "94773248/94765736 [==============================] - 3s 0us/step\n",
            "Model: \"resnet50\"\n",
            "__________________________________________________________________________________________________\n",
            "Layer (type)                    Output Shape         Param #     Connected to                     \n",
            "==================================================================================================\n",
            "input_1 (InputLayer)            [(None, 224, 224, 3) 0                                            \n",
            "__________________________________________________________________________________________________\n",
            "conv1_pad (ZeroPadding2D)       (None, 230, 230, 3)  0           input_1[0][0]                    \n",
            "__________________________________________________________________________________________________\n",
            "conv1_conv (Conv2D)             (None, 112, 112, 64) 9472        conv1_pad[0][0]                  \n",
            "__________________________________________________________________________________________________\n",
            "conv1_bn (BatchNormalization)   (None, 112, 112, 64) 256         conv1_conv[0][0]                 \n",
            "__________________________________________________________________________________________________\n",
            "conv1_relu (Activation)         (None, 112, 112, 64) 0           conv1_bn[0][0]                   \n",
            "__________________________________________________________________________________________________\n",
            "pool1_pad (ZeroPadding2D)       (None, 114, 114, 64) 0           conv1_relu[0][0]                 \n",
            "__________________________________________________________________________________________________\n",
            "pool1_pool (MaxPooling2D)       (None, 56, 56, 64)   0           pool1_pad[0][0]                  \n",
            "__________________________________________________________________________________________________\n",
            "conv2_block1_1_conv (Conv2D)    (None, 56, 56, 64)   4160        pool1_pool[0][0]                 \n",
            "__________________________________________________________________________________________________\n",
            "conv2_block1_1_bn (BatchNormali (None, 56, 56, 64)   256         conv2_block1_1_conv[0][0]        \n",
            "__________________________________________________________________________________________________\n",
            "conv2_block1_1_relu (Activation (None, 56, 56, 64)   0           conv2_block1_1_bn[0][0]          \n",
            "__________________________________________________________________________________________________\n",
            "conv2_block1_2_conv (Conv2D)    (None, 56, 56, 64)   36928       conv2_block1_1_relu[0][0]        \n",
            "__________________________________________________________________________________________________\n",
            "conv2_block1_2_bn (BatchNormali (None, 56, 56, 64)   256         conv2_block1_2_conv[0][0]        \n",
            "__________________________________________________________________________________________________\n",
            "conv2_block1_2_relu (Activation (None, 56, 56, 64)   0           conv2_block1_2_bn[0][0]          \n",
            "__________________________________________________________________________________________________\n",
            "conv2_block1_0_conv (Conv2D)    (None, 56, 56, 256)  16640       pool1_pool[0][0]                 \n",
            "__________________________________________________________________________________________________\n",
            "conv2_block1_3_conv (Conv2D)    (None, 56, 56, 256)  16640       conv2_block1_2_relu[0][0]        \n",
            "__________________________________________________________________________________________________\n",
            "conv2_block1_0_bn (BatchNormali (None, 56, 56, 256)  1024        conv2_block1_0_conv[0][0]        \n",
            "__________________________________________________________________________________________________\n",
            "conv2_block1_3_bn (BatchNormali (None, 56, 56, 256)  1024        conv2_block1_3_conv[0][0]        \n",
            "__________________________________________________________________________________________________\n",
            "conv2_block1_add (Add)          (None, 56, 56, 256)  0           conv2_block1_0_bn[0][0]          \n",
            "                                                                 conv2_block1_3_bn[0][0]          \n",
            "__________________________________________________________________________________________________\n",
            "conv2_block1_out (Activation)   (None, 56, 56, 256)  0           conv2_block1_add[0][0]           \n",
            "__________________________________________________________________________________________________\n",
            "conv2_block2_1_conv (Conv2D)    (None, 56, 56, 64)   16448       conv2_block1_out[0][0]           \n",
            "__________________________________________________________________________________________________\n",
            "conv2_block2_1_bn (BatchNormali (None, 56, 56, 64)   256         conv2_block2_1_conv[0][0]        \n",
            "__________________________________________________________________________________________________\n",
            "conv2_block2_1_relu (Activation (None, 56, 56, 64)   0           conv2_block2_1_bn[0][0]          \n",
            "__________________________________________________________________________________________________\n",
            "conv2_block2_2_conv (Conv2D)    (None, 56, 56, 64)   36928       conv2_block2_1_relu[0][0]        \n",
            "__________________________________________________________________________________________________\n",
            "conv2_block2_2_bn (BatchNormali (None, 56, 56, 64)   256         conv2_block2_2_conv[0][0]        \n",
            "__________________________________________________________________________________________________\n",
            "conv2_block2_2_relu (Activation (None, 56, 56, 64)   0           conv2_block2_2_bn[0][0]          \n",
            "__________________________________________________________________________________________________\n",
            "conv2_block2_3_conv (Conv2D)    (None, 56, 56, 256)  16640       conv2_block2_2_relu[0][0]        \n",
            "__________________________________________________________________________________________________\n",
            "conv2_block2_3_bn (BatchNormali (None, 56, 56, 256)  1024        conv2_block2_3_conv[0][0]        \n",
            "__________________________________________________________________________________________________\n",
            "conv2_block2_add (Add)          (None, 56, 56, 256)  0           conv2_block1_out[0][0]           \n",
            "                                                                 conv2_block2_3_bn[0][0]          \n",
            "__________________________________________________________________________________________________\n",
            "conv2_block2_out (Activation)   (None, 56, 56, 256)  0           conv2_block2_add[0][0]           \n",
            "__________________________________________________________________________________________________\n",
            "conv2_block3_1_conv (Conv2D)    (None, 56, 56, 64)   16448       conv2_block2_out[0][0]           \n",
            "__________________________________________________________________________________________________\n",
            "conv2_block3_1_bn (BatchNormali (None, 56, 56, 64)   256         conv2_block3_1_conv[0][0]        \n",
            "__________________________________________________________________________________________________\n",
            "conv2_block3_1_relu (Activation (None, 56, 56, 64)   0           conv2_block3_1_bn[0][0]          \n",
            "__________________________________________________________________________________________________\n",
            "conv2_block3_2_conv (Conv2D)    (None, 56, 56, 64)   36928       conv2_block3_1_relu[0][0]        \n",
            "__________________________________________________________________________________________________\n",
            "conv2_block3_2_bn (BatchNormali (None, 56, 56, 64)   256         conv2_block3_2_conv[0][0]        \n",
            "__________________________________________________________________________________________________\n",
            "conv2_block3_2_relu (Activation (None, 56, 56, 64)   0           conv2_block3_2_bn[0][0]          \n",
            "__________________________________________________________________________________________________\n",
            "conv2_block3_3_conv (Conv2D)    (None, 56, 56, 256)  16640       conv2_block3_2_relu[0][0]        \n",
            "__________________________________________________________________________________________________\n",
            "conv2_block3_3_bn (BatchNormali (None, 56, 56, 256)  1024        conv2_block3_3_conv[0][0]        \n",
            "__________________________________________________________________________________________________\n",
            "conv2_block3_add (Add)          (None, 56, 56, 256)  0           conv2_block2_out[0][0]           \n",
            "                                                                 conv2_block3_3_bn[0][0]          \n",
            "__________________________________________________________________________________________________\n",
            "conv2_block3_out (Activation)   (None, 56, 56, 256)  0           conv2_block3_add[0][0]           \n",
            "__________________________________________________________________________________________________\n",
            "conv3_block1_1_conv (Conv2D)    (None, 28, 28, 128)  32896       conv2_block3_out[0][0]           \n",
            "__________________________________________________________________________________________________\n",
            "conv3_block1_1_bn (BatchNormali (None, 28, 28, 128)  512         conv3_block1_1_conv[0][0]        \n",
            "__________________________________________________________________________________________________\n",
            "conv3_block1_1_relu (Activation (None, 28, 28, 128)  0           conv3_block1_1_bn[0][0]          \n",
            "__________________________________________________________________________________________________\n",
            "conv3_block1_2_conv (Conv2D)    (None, 28, 28, 128)  147584      conv3_block1_1_relu[0][0]        \n",
            "__________________________________________________________________________________________________\n",
            "conv3_block1_2_bn (BatchNormali (None, 28, 28, 128)  512         conv3_block1_2_conv[0][0]        \n",
            "__________________________________________________________________________________________________\n",
            "conv3_block1_2_relu (Activation (None, 28, 28, 128)  0           conv3_block1_2_bn[0][0]          \n",
            "__________________________________________________________________________________________________\n",
            "conv3_block1_0_conv (Conv2D)    (None, 28, 28, 512)  131584      conv2_block3_out[0][0]           \n",
            "__________________________________________________________________________________________________\n",
            "conv3_block1_3_conv (Conv2D)    (None, 28, 28, 512)  66048       conv3_block1_2_relu[0][0]        \n",
            "__________________________________________________________________________________________________\n",
            "conv3_block1_0_bn (BatchNormali (None, 28, 28, 512)  2048        conv3_block1_0_conv[0][0]        \n",
            "__________________________________________________________________________________________________\n",
            "conv3_block1_3_bn (BatchNormali (None, 28, 28, 512)  2048        conv3_block1_3_conv[0][0]        \n",
            "__________________________________________________________________________________________________\n",
            "conv3_block1_add (Add)          (None, 28, 28, 512)  0           conv3_block1_0_bn[0][0]          \n",
            "                                                                 conv3_block1_3_bn[0][0]          \n",
            "__________________________________________________________________________________________________\n",
            "conv3_block1_out (Activation)   (None, 28, 28, 512)  0           conv3_block1_add[0][0]           \n",
            "__________________________________________________________________________________________________\n",
            "conv3_block2_1_conv (Conv2D)    (None, 28, 28, 128)  65664       conv3_block1_out[0][0]           \n",
            "__________________________________________________________________________________________________\n",
            "conv3_block2_1_bn (BatchNormali (None, 28, 28, 128)  512         conv3_block2_1_conv[0][0]        \n",
            "__________________________________________________________________________________________________\n",
            "conv3_block2_1_relu (Activation (None, 28, 28, 128)  0           conv3_block2_1_bn[0][0]          \n",
            "__________________________________________________________________________________________________\n",
            "conv3_block2_2_conv (Conv2D)    (None, 28, 28, 128)  147584      conv3_block2_1_relu[0][0]        \n",
            "__________________________________________________________________________________________________\n",
            "conv3_block2_2_bn (BatchNormali (None, 28, 28, 128)  512         conv3_block2_2_conv[0][0]        \n",
            "__________________________________________________________________________________________________\n",
            "conv3_block2_2_relu (Activation (None, 28, 28, 128)  0           conv3_block2_2_bn[0][0]          \n",
            "__________________________________________________________________________________________________\n",
            "conv3_block2_3_conv (Conv2D)    (None, 28, 28, 512)  66048       conv3_block2_2_relu[0][0]        \n",
            "__________________________________________________________________________________________________\n",
            "conv3_block2_3_bn (BatchNormali (None, 28, 28, 512)  2048        conv3_block2_3_conv[0][0]        \n",
            "__________________________________________________________________________________________________\n",
            "conv3_block2_add (Add)          (None, 28, 28, 512)  0           conv3_block1_out[0][0]           \n",
            "                                                                 conv3_block2_3_bn[0][0]          \n",
            "__________________________________________________________________________________________________\n",
            "conv3_block2_out (Activation)   (None, 28, 28, 512)  0           conv3_block2_add[0][0]           \n",
            "__________________________________________________________________________________________________\n",
            "conv3_block3_1_conv (Conv2D)    (None, 28, 28, 128)  65664       conv3_block2_out[0][0]           \n",
            "__________________________________________________________________________________________________\n",
            "conv3_block3_1_bn (BatchNormali (None, 28, 28, 128)  512         conv3_block3_1_conv[0][0]        \n",
            "__________________________________________________________________________________________________\n",
            "conv3_block3_1_relu (Activation (None, 28, 28, 128)  0           conv3_block3_1_bn[0][0]          \n",
            "__________________________________________________________________________________________________\n",
            "conv3_block3_2_conv (Conv2D)    (None, 28, 28, 128)  147584      conv3_block3_1_relu[0][0]        \n",
            "__________________________________________________________________________________________________\n",
            "conv3_block3_2_bn (BatchNormali (None, 28, 28, 128)  512         conv3_block3_2_conv[0][0]        \n",
            "__________________________________________________________________________________________________\n",
            "conv3_block3_2_relu (Activation (None, 28, 28, 128)  0           conv3_block3_2_bn[0][0]          \n",
            "__________________________________________________________________________________________________\n",
            "conv3_block3_3_conv (Conv2D)    (None, 28, 28, 512)  66048       conv3_block3_2_relu[0][0]        \n",
            "__________________________________________________________________________________________________\n",
            "conv3_block3_3_bn (BatchNormali (None, 28, 28, 512)  2048        conv3_block3_3_conv[0][0]        \n",
            "__________________________________________________________________________________________________\n",
            "conv3_block3_add (Add)          (None, 28, 28, 512)  0           conv3_block2_out[0][0]           \n",
            "                                                                 conv3_block3_3_bn[0][0]          \n",
            "__________________________________________________________________________________________________\n",
            "conv3_block3_out (Activation)   (None, 28, 28, 512)  0           conv3_block3_add[0][0]           \n",
            "__________________________________________________________________________________________________\n",
            "conv3_block4_1_conv (Conv2D)    (None, 28, 28, 128)  65664       conv3_block3_out[0][0]           \n",
            "__________________________________________________________________________________________________\n",
            "conv3_block4_1_bn (BatchNormali (None, 28, 28, 128)  512         conv3_block4_1_conv[0][0]        \n",
            "__________________________________________________________________________________________________\n",
            "conv3_block4_1_relu (Activation (None, 28, 28, 128)  0           conv3_block4_1_bn[0][0]          \n",
            "__________________________________________________________________________________________________\n",
            "conv3_block4_2_conv (Conv2D)    (None, 28, 28, 128)  147584      conv3_block4_1_relu[0][0]        \n",
            "__________________________________________________________________________________________________\n",
            "conv3_block4_2_bn (BatchNormali (None, 28, 28, 128)  512         conv3_block4_2_conv[0][0]        \n",
            "__________________________________________________________________________________________________\n",
            "conv3_block4_2_relu (Activation (None, 28, 28, 128)  0           conv3_block4_2_bn[0][0]          \n",
            "__________________________________________________________________________________________________\n",
            "conv3_block4_3_conv (Conv2D)    (None, 28, 28, 512)  66048       conv3_block4_2_relu[0][0]        \n",
            "__________________________________________________________________________________________________\n",
            "conv3_block4_3_bn (BatchNormali (None, 28, 28, 512)  2048        conv3_block4_3_conv[0][0]        \n",
            "__________________________________________________________________________________________________\n",
            "conv3_block4_add (Add)          (None, 28, 28, 512)  0           conv3_block3_out[0][0]           \n",
            "                                                                 conv3_block4_3_bn[0][0]          \n",
            "__________________________________________________________________________________________________\n",
            "conv3_block4_out (Activation)   (None, 28, 28, 512)  0           conv3_block4_add[0][0]           \n",
            "__________________________________________________________________________________________________\n",
            "conv4_block1_1_conv (Conv2D)    (None, 14, 14, 256)  131328      conv3_block4_out[0][0]           \n",
            "__________________________________________________________________________________________________\n",
            "conv4_block1_1_bn (BatchNormali (None, 14, 14, 256)  1024        conv4_block1_1_conv[0][0]        \n",
            "__________________________________________________________________________________________________\n",
            "conv4_block1_1_relu (Activation (None, 14, 14, 256)  0           conv4_block1_1_bn[0][0]          \n",
            "__________________________________________________________________________________________________\n",
            "conv4_block1_2_conv (Conv2D)    (None, 14, 14, 256)  590080      conv4_block1_1_relu[0][0]        \n",
            "__________________________________________________________________________________________________\n",
            "conv4_block1_2_bn (BatchNormali (None, 14, 14, 256)  1024        conv4_block1_2_conv[0][0]        \n",
            "__________________________________________________________________________________________________\n",
            "conv4_block1_2_relu (Activation (None, 14, 14, 256)  0           conv4_block1_2_bn[0][0]          \n",
            "__________________________________________________________________________________________________\n",
            "conv4_block1_0_conv (Conv2D)    (None, 14, 14, 1024) 525312      conv3_block4_out[0][0]           \n",
            "__________________________________________________________________________________________________\n",
            "conv4_block1_3_conv (Conv2D)    (None, 14, 14, 1024) 263168      conv4_block1_2_relu[0][0]        \n",
            "__________________________________________________________________________________________________\n",
            "conv4_block1_0_bn (BatchNormali (None, 14, 14, 1024) 4096        conv4_block1_0_conv[0][0]        \n",
            "__________________________________________________________________________________________________\n",
            "conv4_block1_3_bn (BatchNormali (None, 14, 14, 1024) 4096        conv4_block1_3_conv[0][0]        \n",
            "__________________________________________________________________________________________________\n",
            "conv4_block1_add (Add)          (None, 14, 14, 1024) 0           conv4_block1_0_bn[0][0]          \n",
            "                                                                 conv4_block1_3_bn[0][0]          \n",
            "__________________________________________________________________________________________________\n",
            "conv4_block1_out (Activation)   (None, 14, 14, 1024) 0           conv4_block1_add[0][0]           \n",
            "__________________________________________________________________________________________________\n",
            "conv4_block2_1_conv (Conv2D)    (None, 14, 14, 256)  262400      conv4_block1_out[0][0]           \n",
            "__________________________________________________________________________________________________\n",
            "conv4_block2_1_bn (BatchNormali (None, 14, 14, 256)  1024        conv4_block2_1_conv[0][0]        \n",
            "__________________________________________________________________________________________________\n",
            "conv4_block2_1_relu (Activation (None, 14, 14, 256)  0           conv4_block2_1_bn[0][0]          \n",
            "__________________________________________________________________________________________________\n",
            "conv4_block2_2_conv (Conv2D)    (None, 14, 14, 256)  590080      conv4_block2_1_relu[0][0]        \n",
            "__________________________________________________________________________________________________\n",
            "conv4_block2_2_bn (BatchNormali (None, 14, 14, 256)  1024        conv4_block2_2_conv[0][0]        \n",
            "__________________________________________________________________________________________________\n",
            "conv4_block2_2_relu (Activation (None, 14, 14, 256)  0           conv4_block2_2_bn[0][0]          \n",
            "__________________________________________________________________________________________________\n",
            "conv4_block2_3_conv (Conv2D)    (None, 14, 14, 1024) 263168      conv4_block2_2_relu[0][0]        \n",
            "__________________________________________________________________________________________________\n",
            "conv4_block2_3_bn (BatchNormali (None, 14, 14, 1024) 4096        conv4_block2_3_conv[0][0]        \n",
            "__________________________________________________________________________________________________\n",
            "conv4_block2_add (Add)          (None, 14, 14, 1024) 0           conv4_block1_out[0][0]           \n",
            "                                                                 conv4_block2_3_bn[0][0]          \n",
            "__________________________________________________________________________________________________\n",
            "conv4_block2_out (Activation)   (None, 14, 14, 1024) 0           conv4_block2_add[0][0]           \n",
            "__________________________________________________________________________________________________\n",
            "conv4_block3_1_conv (Conv2D)    (None, 14, 14, 256)  262400      conv4_block2_out[0][0]           \n",
            "__________________________________________________________________________________________________\n",
            "conv4_block3_1_bn (BatchNormali (None, 14, 14, 256)  1024        conv4_block3_1_conv[0][0]        \n",
            "__________________________________________________________________________________________________\n",
            "conv4_block3_1_relu (Activation (None, 14, 14, 256)  0           conv4_block3_1_bn[0][0]          \n",
            "__________________________________________________________________________________________________\n",
            "conv4_block3_2_conv (Conv2D)    (None, 14, 14, 256)  590080      conv4_block3_1_relu[0][0]        \n",
            "__________________________________________________________________________________________________\n",
            "conv4_block3_2_bn (BatchNormali (None, 14, 14, 256)  1024        conv4_block3_2_conv[0][0]        \n",
            "__________________________________________________________________________________________________\n",
            "conv4_block3_2_relu (Activation (None, 14, 14, 256)  0           conv4_block3_2_bn[0][0]          \n",
            "__________________________________________________________________________________________________\n",
            "conv4_block3_3_conv (Conv2D)    (None, 14, 14, 1024) 263168      conv4_block3_2_relu[0][0]        \n",
            "__________________________________________________________________________________________________\n",
            "conv4_block3_3_bn (BatchNormali (None, 14, 14, 1024) 4096        conv4_block3_3_conv[0][0]        \n",
            "__________________________________________________________________________________________________\n",
            "conv4_block3_add (Add)          (None, 14, 14, 1024) 0           conv4_block2_out[0][0]           \n",
            "                                                                 conv4_block3_3_bn[0][0]          \n",
            "__________________________________________________________________________________________________\n",
            "conv4_block3_out (Activation)   (None, 14, 14, 1024) 0           conv4_block3_add[0][0]           \n",
            "__________________________________________________________________________________________________\n",
            "conv4_block4_1_conv (Conv2D)    (None, 14, 14, 256)  262400      conv4_block3_out[0][0]           \n",
            "__________________________________________________________________________________________________\n",
            "conv4_block4_1_bn (BatchNormali (None, 14, 14, 256)  1024        conv4_block4_1_conv[0][0]        \n",
            "__________________________________________________________________________________________________\n",
            "conv4_block4_1_relu (Activation (None, 14, 14, 256)  0           conv4_block4_1_bn[0][0]          \n",
            "__________________________________________________________________________________________________\n",
            "conv4_block4_2_conv (Conv2D)    (None, 14, 14, 256)  590080      conv4_block4_1_relu[0][0]        \n",
            "__________________________________________________________________________________________________\n",
            "conv4_block4_2_bn (BatchNormali (None, 14, 14, 256)  1024        conv4_block4_2_conv[0][0]        \n",
            "__________________________________________________________________________________________________\n",
            "conv4_block4_2_relu (Activation (None, 14, 14, 256)  0           conv4_block4_2_bn[0][0]          \n",
            "__________________________________________________________________________________________________\n",
            "conv4_block4_3_conv (Conv2D)    (None, 14, 14, 1024) 263168      conv4_block4_2_relu[0][0]        \n",
            "__________________________________________________________________________________________________\n",
            "conv4_block4_3_bn (BatchNormali (None, 14, 14, 1024) 4096        conv4_block4_3_conv[0][0]        \n",
            "__________________________________________________________________________________________________\n",
            "conv4_block4_add (Add)          (None, 14, 14, 1024) 0           conv4_block3_out[0][0]           \n",
            "                                                                 conv4_block4_3_bn[0][0]          \n",
            "__________________________________________________________________________________________________\n",
            "conv4_block4_out (Activation)   (None, 14, 14, 1024) 0           conv4_block4_add[0][0]           \n",
            "__________________________________________________________________________________________________\n",
            "conv4_block5_1_conv (Conv2D)    (None, 14, 14, 256)  262400      conv4_block4_out[0][0]           \n",
            "__________________________________________________________________________________________________\n",
            "conv4_block5_1_bn (BatchNormali (None, 14, 14, 256)  1024        conv4_block5_1_conv[0][0]        \n",
            "__________________________________________________________________________________________________\n",
            "conv4_block5_1_relu (Activation (None, 14, 14, 256)  0           conv4_block5_1_bn[0][0]          \n",
            "__________________________________________________________________________________________________\n",
            "conv4_block5_2_conv (Conv2D)    (None, 14, 14, 256)  590080      conv4_block5_1_relu[0][0]        \n",
            "__________________________________________________________________________________________________\n",
            "conv4_block5_2_bn (BatchNormali (None, 14, 14, 256)  1024        conv4_block5_2_conv[0][0]        \n",
            "__________________________________________________________________________________________________\n",
            "conv4_block5_2_relu (Activation (None, 14, 14, 256)  0           conv4_block5_2_bn[0][0]          \n",
            "__________________________________________________________________________________________________\n",
            "conv4_block5_3_conv (Conv2D)    (None, 14, 14, 1024) 263168      conv4_block5_2_relu[0][0]        \n",
            "__________________________________________________________________________________________________\n",
            "conv4_block5_3_bn (BatchNormali (None, 14, 14, 1024) 4096        conv4_block5_3_conv[0][0]        \n",
            "__________________________________________________________________________________________________\n",
            "conv4_block5_add (Add)          (None, 14, 14, 1024) 0           conv4_block4_out[0][0]           \n",
            "                                                                 conv4_block5_3_bn[0][0]          \n",
            "__________________________________________________________________________________________________\n",
            "conv4_block5_out (Activation)   (None, 14, 14, 1024) 0           conv4_block5_add[0][0]           \n",
            "__________________________________________________________________________________________________\n",
            "conv4_block6_1_conv (Conv2D)    (None, 14, 14, 256)  262400      conv4_block5_out[0][0]           \n",
            "__________________________________________________________________________________________________\n",
            "conv4_block6_1_bn (BatchNormali (None, 14, 14, 256)  1024        conv4_block6_1_conv[0][0]        \n",
            "__________________________________________________________________________________________________\n",
            "conv4_block6_1_relu (Activation (None, 14, 14, 256)  0           conv4_block6_1_bn[0][0]          \n",
            "__________________________________________________________________________________________________\n",
            "conv4_block6_2_conv (Conv2D)    (None, 14, 14, 256)  590080      conv4_block6_1_relu[0][0]        \n",
            "__________________________________________________________________________________________________\n",
            "conv4_block6_2_bn (BatchNormali (None, 14, 14, 256)  1024        conv4_block6_2_conv[0][0]        \n",
            "__________________________________________________________________________________________________\n",
            "conv4_block6_2_relu (Activation (None, 14, 14, 256)  0           conv4_block6_2_bn[0][0]          \n",
            "__________________________________________________________________________________________________\n",
            "conv4_block6_3_conv (Conv2D)    (None, 14, 14, 1024) 263168      conv4_block6_2_relu[0][0]        \n",
            "__________________________________________________________________________________________________\n",
            "conv4_block6_3_bn (BatchNormali (None, 14, 14, 1024) 4096        conv4_block6_3_conv[0][0]        \n",
            "__________________________________________________________________________________________________\n",
            "conv4_block6_add (Add)          (None, 14, 14, 1024) 0           conv4_block5_out[0][0]           \n",
            "                                                                 conv4_block6_3_bn[0][0]          \n",
            "__________________________________________________________________________________________________\n",
            "conv4_block6_out (Activation)   (None, 14, 14, 1024) 0           conv4_block6_add[0][0]           \n",
            "__________________________________________________________________________________________________\n",
            "conv5_block1_1_conv (Conv2D)    (None, 7, 7, 512)    524800      conv4_block6_out[0][0]           \n",
            "__________________________________________________________________________________________________\n",
            "conv5_block1_1_bn (BatchNormali (None, 7, 7, 512)    2048        conv5_block1_1_conv[0][0]        \n",
            "__________________________________________________________________________________________________\n",
            "conv5_block1_1_relu (Activation (None, 7, 7, 512)    0           conv5_block1_1_bn[0][0]          \n",
            "__________________________________________________________________________________________________\n",
            "conv5_block1_2_conv (Conv2D)    (None, 7, 7, 512)    2359808     conv5_block1_1_relu[0][0]        \n",
            "__________________________________________________________________________________________________\n",
            "conv5_block1_2_bn (BatchNormali (None, 7, 7, 512)    2048        conv5_block1_2_conv[0][0]        \n",
            "__________________________________________________________________________________________________\n",
            "conv5_block1_2_relu (Activation (None, 7, 7, 512)    0           conv5_block1_2_bn[0][0]          \n",
            "__________________________________________________________________________________________________\n",
            "conv5_block1_0_conv (Conv2D)    (None, 7, 7, 2048)   2099200     conv4_block6_out[0][0]           \n",
            "__________________________________________________________________________________________________\n",
            "conv5_block1_3_conv (Conv2D)    (None, 7, 7, 2048)   1050624     conv5_block1_2_relu[0][0]        \n",
            "__________________________________________________________________________________________________\n",
            "conv5_block1_0_bn (BatchNormali (None, 7, 7, 2048)   8192        conv5_block1_0_conv[0][0]        \n",
            "__________________________________________________________________________________________________\n",
            "conv5_block1_3_bn (BatchNormali (None, 7, 7, 2048)   8192        conv5_block1_3_conv[0][0]        \n",
            "__________________________________________________________________________________________________\n",
            "conv5_block1_add (Add)          (None, 7, 7, 2048)   0           conv5_block1_0_bn[0][0]          \n",
            "                                                                 conv5_block1_3_bn[0][0]          \n",
            "__________________________________________________________________________________________________\n",
            "conv5_block1_out (Activation)   (None, 7, 7, 2048)   0           conv5_block1_add[0][0]           \n",
            "__________________________________________________________________________________________________\n",
            "conv5_block2_1_conv (Conv2D)    (None, 7, 7, 512)    1049088     conv5_block1_out[0][0]           \n",
            "__________________________________________________________________________________________________\n",
            "conv5_block2_1_bn (BatchNormali (None, 7, 7, 512)    2048        conv5_block2_1_conv[0][0]        \n",
            "__________________________________________________________________________________________________\n",
            "conv5_block2_1_relu (Activation (None, 7, 7, 512)    0           conv5_block2_1_bn[0][0]          \n",
            "__________________________________________________________________________________________________\n",
            "conv5_block2_2_conv (Conv2D)    (None, 7, 7, 512)    2359808     conv5_block2_1_relu[0][0]        \n",
            "__________________________________________________________________________________________________\n",
            "conv5_block2_2_bn (BatchNormali (None, 7, 7, 512)    2048        conv5_block2_2_conv[0][0]        \n",
            "__________________________________________________________________________________________________\n",
            "conv5_block2_2_relu (Activation (None, 7, 7, 512)    0           conv5_block2_2_bn[0][0]          \n",
            "__________________________________________________________________________________________________\n",
            "conv5_block2_3_conv (Conv2D)    (None, 7, 7, 2048)   1050624     conv5_block2_2_relu[0][0]        \n",
            "__________________________________________________________________________________________________\n",
            "conv5_block2_3_bn (BatchNormali (None, 7, 7, 2048)   8192        conv5_block2_3_conv[0][0]        \n",
            "__________________________________________________________________________________________________\n",
            "conv5_block2_add (Add)          (None, 7, 7, 2048)   0           conv5_block1_out[0][0]           \n",
            "                                                                 conv5_block2_3_bn[0][0]          \n",
            "__________________________________________________________________________________________________\n",
            "conv5_block2_out (Activation)   (None, 7, 7, 2048)   0           conv5_block2_add[0][0]           \n",
            "__________________________________________________________________________________________________\n",
            "conv5_block3_1_conv (Conv2D)    (None, 7, 7, 512)    1049088     conv5_block2_out[0][0]           \n",
            "__________________________________________________________________________________________________\n",
            "conv5_block3_1_bn (BatchNormali (None, 7, 7, 512)    2048        conv5_block3_1_conv[0][0]        \n",
            "__________________________________________________________________________________________________\n",
            "conv5_block3_1_relu (Activation (None, 7, 7, 512)    0           conv5_block3_1_bn[0][0]          \n",
            "__________________________________________________________________________________________________\n",
            "conv5_block3_2_conv (Conv2D)    (None, 7, 7, 512)    2359808     conv5_block3_1_relu[0][0]        \n",
            "__________________________________________________________________________________________________\n",
            "conv5_block3_2_bn (BatchNormali (None, 7, 7, 512)    2048        conv5_block3_2_conv[0][0]        \n",
            "__________________________________________________________________________________________________\n",
            "conv5_block3_2_relu (Activation (None, 7, 7, 512)    0           conv5_block3_2_bn[0][0]          \n",
            "__________________________________________________________________________________________________\n",
            "conv5_block3_3_conv (Conv2D)    (None, 7, 7, 2048)   1050624     conv5_block3_2_relu[0][0]        \n",
            "__________________________________________________________________________________________________\n",
            "conv5_block3_3_bn (BatchNormali (None, 7, 7, 2048)   8192        conv5_block3_3_conv[0][0]        \n",
            "__________________________________________________________________________________________________\n",
            "conv5_block3_add (Add)          (None, 7, 7, 2048)   0           conv5_block2_out[0][0]           \n",
            "                                                                 conv5_block3_3_bn[0][0]          \n",
            "__________________________________________________________________________________________________\n",
            "conv5_block3_out (Activation)   (None, 7, 7, 2048)   0           conv5_block3_add[0][0]           \n",
            "__________________________________________________________________________________________________\n",
            "avg_pool (GlobalAveragePooling2 (None, 2048)         0           conv5_block3_out[0][0]           \n",
            "==================================================================================================\n",
            "Total params: 23,587,712\n",
            "Trainable params: 23,534,592\n",
            "Non-trainable params: 53,120\n",
            "__________________________________________________________________________________________________\n"
          ],
          "name": "stdout"
        }
      ]
    },
    {
      "cell_type": "markdown",
      "metadata": {
        "id": "UE2GDdU7dhBS"
      },
      "source": [
        "## Data Pre-Processing\n",
        "\n",
        "Pre-processing yang dilakukan dalam pengolahan data ini yaitu:\n",
        "- Resize gambar menjadi ukuran target yang ada pada data train "
      ]
    },
    {
      "cell_type": "markdown",
      "metadata": {
        "id": "ZhyibDMRsebo"
      },
      "source": [
        "Bisa langsung ke tahap ini jika telah mempunyai file data train"
      ]
    },
    {
      "cell_type": "code",
      "metadata": {
        "id": "msXgD-hasU4Z"
      },
      "source": [
        "with open( \"/content/drive/My Drive/RepSession_DSI/Data_Image_Captioning_Flickr8K/Flickr_Data/Result/train_encoded_images.p\", \"rb\" ) as pickle_f:\n",
        "    train_data = pickle.load(pickle_f)"
      ],
      "execution_count": null,
      "outputs": []
    },
    {
      "cell_type": "code",
      "metadata": {
        "id": "_XX3Ps-5VB4_"
      },
      "source": [
        "# Helper function to process images\n",
        "def preprocessing(img_path):\n",
        "    im = image.load_img(img_path, target_size=(224,224,3))\n",
        "    im = image.img_to_array(im)\n",
        "    im = np.expand_dims(im, axis=0)\n",
        "    return im"
      ],
      "execution_count": null,
      "outputs": []
    },
    {
      "cell_type": "code",
      "metadata": {
        "id": "RPFiEVhTVENG"
      },
      "source": [
        "train_data = {}\n",
        "ctr=0\n",
        "for ix in x_train:\n",
        "    if ix == \"\":\n",
        "        continue\n",
        "    if ctr >= 3000:\n",
        "        break\n",
        "    ctr+=1\n",
        "    if ctr%1000==0:\n",
        "        print(ctr)\n",
        "    path = images_path + ix\n",
        "    img = preprocessing(path)\n",
        "    pred = model.predict(img).reshape(2048)\n",
        "    train_data[ix] = pred"
      ],
      "execution_count": null,
      "outputs": []
    },
    {
      "cell_type": "code",
      "metadata": {
        "id": "rGDFqS2VXqSi"
      },
      "source": [
        "# opening train_encoded_images.p file and dumping it's content\n",
        "with open( \"/content/drive/My Drive/RepSession_DSI/Data_Image_Captioning_Flickr8K/Flickr_Data/Result/train_encoded_images.p\", \"wb\" ) as pickle_f:\n",
        "    pickle.dump(train_data, pickle_f)"
      ],
      "execution_count": null,
      "outputs": []
    },
    {
      "cell_type": "markdown",
      "metadata": {
        "id": "8pm3rMxDPHYX"
      },
      "source": [
        "## Membuka Hasil Data Pre-Processing\n",
        "\n",
        "- Membuka data train\n",
        "- Menampilkan data train\n",
        "- Melihat ukuran data train"
      ]
    },
    {
      "cell_type": "code",
      "metadata": {
        "id": "TXomHDl4Z-Ln",
        "colab": {
          "base_uri": "https://localhost:8080/",
          "height": 35
        },
        "outputId": "82888f97-c036-427a-9445-d94d15ab81ca"
      },
      "source": [
        "# Loading image and its corresponding caption into a dataframe and then storing values from dataframe into 'ds'\n",
        "pd_dataset = pd.read_csv(\"/content/drive/My Drive/RepSession_DSI/Data_Image_Captioning_Flickr8K/Flickr_Data/Result/flickr_8k_train_dataset.txt\", delimiter='\\t')\n",
        "ds = pd_dataset.values\n",
        "print(ds.shape)"
      ],
      "execution_count": null,
      "outputs": [
        {
          "output_type": "stream",
          "text": [
            "(30000, 2)\n"
          ],
          "name": "stdout"
        }
      ]
    },
    {
      "cell_type": "code",
      "metadata": {
        "id": "egl7M0C4Z-KJ",
        "colab": {
          "base_uri": "https://localhost:8080/",
          "height": 355
        },
        "outputId": "71e1d535-b899-4b9b-a15e-2b611e6aac96"
      },
      "source": [
        "#melihat 10 data pertama dari data train\n",
        "pd_dataset.head(10)"
      ],
      "execution_count": null,
      "outputs": [
        {
          "output_type": "execute_result",
          "data": {
            "text/html": [
              "<div>\n",
              "<style scoped>\n",
              "    .dataframe tbody tr th:only-of-type {\n",
              "        vertical-align: middle;\n",
              "    }\n",
              "\n",
              "    .dataframe tbody tr th {\n",
              "        vertical-align: top;\n",
              "    }\n",
              "\n",
              "    .dataframe thead th {\n",
              "        text-align: right;\n",
              "    }\n",
              "</style>\n",
              "<table border=\"1\" class=\"dataframe\">\n",
              "  <thead>\n",
              "    <tr style=\"text-align: right;\">\n",
              "      <th></th>\n",
              "      <th>image_id</th>\n",
              "      <th>captions</th>\n",
              "    </tr>\n",
              "  </thead>\n",
              "  <tbody>\n",
              "    <tr>\n",
              "      <th>0</th>\n",
              "      <td>2513260012_03d33305cf.jpg</td>\n",
              "      <td>&lt;start&gt; A black dog is running after a white d...</td>\n",
              "    </tr>\n",
              "    <tr>\n",
              "      <th>1</th>\n",
              "      <td>2513260012_03d33305cf.jpg</td>\n",
              "      <td>&lt;start&gt; Black dog chasing brown dog through sn...</td>\n",
              "    </tr>\n",
              "    <tr>\n",
              "      <th>2</th>\n",
              "      <td>2513260012_03d33305cf.jpg</td>\n",
              "      <td>&lt;start&gt; Two dogs chase each other across the s...</td>\n",
              "    </tr>\n",
              "    <tr>\n",
              "      <th>3</th>\n",
              "      <td>2513260012_03d33305cf.jpg</td>\n",
              "      <td>&lt;start&gt; Two dogs play together in the snow . &lt;...</td>\n",
              "    </tr>\n",
              "    <tr>\n",
              "      <th>4</th>\n",
              "      <td>2513260012_03d33305cf.jpg</td>\n",
              "      <td>&lt;start&gt; Two dogs running through a low lying b...</td>\n",
              "    </tr>\n",
              "    <tr>\n",
              "      <th>5</th>\n",
              "      <td>2903617548_d3e38d7f88.jpg</td>\n",
              "      <td>&lt;start&gt; A little baby plays croquet . &lt;end&gt;</td>\n",
              "    </tr>\n",
              "    <tr>\n",
              "      <th>6</th>\n",
              "      <td>2903617548_d3e38d7f88.jpg</td>\n",
              "      <td>&lt;start&gt; A little girl plays croquet next to a ...</td>\n",
              "    </tr>\n",
              "    <tr>\n",
              "      <th>7</th>\n",
              "      <td>2903617548_d3e38d7f88.jpg</td>\n",
              "      <td>&lt;start&gt; The child is playing croquette by the ...</td>\n",
              "    </tr>\n",
              "    <tr>\n",
              "      <th>8</th>\n",
              "      <td>2903617548_d3e38d7f88.jpg</td>\n",
              "      <td>&lt;start&gt; The kid is in front of a car with a pu...</td>\n",
              "    </tr>\n",
              "    <tr>\n",
              "      <th>9</th>\n",
              "      <td>2903617548_d3e38d7f88.jpg</td>\n",
              "      <td>&lt;start&gt; The little boy is playing with a croqu...</td>\n",
              "    </tr>\n",
              "  </tbody>\n",
              "</table>\n",
              "</div>"
            ],
            "text/plain": [
              "                    image_id                                           captions\n",
              "0  2513260012_03d33305cf.jpg  <start> A black dog is running after a white d...\n",
              "1  2513260012_03d33305cf.jpg  <start> Black dog chasing brown dog through sn...\n",
              "2  2513260012_03d33305cf.jpg  <start> Two dogs chase each other across the s...\n",
              "3  2513260012_03d33305cf.jpg  <start> Two dogs play together in the snow . <...\n",
              "4  2513260012_03d33305cf.jpg  <start> Two dogs running through a low lying b...\n",
              "5  2903617548_d3e38d7f88.jpg        <start> A little baby plays croquet . <end>\n",
              "6  2903617548_d3e38d7f88.jpg  <start> A little girl plays croquet next to a ...\n",
              "7  2903617548_d3e38d7f88.jpg  <start> The child is playing croquette by the ...\n",
              "8  2903617548_d3e38d7f88.jpg  <start> The kid is in front of a car with a pu...\n",
              "9  2903617548_d3e38d7f88.jpg  <start> The little boy is playing with a croqu..."
            ]
          },
          "metadata": {
            "tags": []
          },
          "execution_count": 31
        }
      ]
    },
    {
      "cell_type": "markdown",
      "metadata": {
        "id": "n6ZYxUgzP4su"
      },
      "source": [
        "- Menyimpan data yang ada pada kolom caption menjadi list\n",
        "- Melihat ukuran kolom caption\n",
        "- Menampilkan salah satu isi dari kolom caption"
      ]
    },
    {
      "cell_type": "code",
      "metadata": {
        "id": "nYFYEiNWaDcN",
        "colab": {
          "base_uri": "https://localhost:8080/",
          "height": 52
        },
        "outputId": "313741ea-d67c-4c11-ae14-3a4e2bbe1c15"
      },
      "source": [
        "# Storing all the captions from ds into a list\n",
        "sentences = []\n",
        "for ix in range(ds.shape[0]):\n",
        "    sentences.append(ds[ix, 1])\n",
        "    \n",
        "print(len(sentences))\n",
        "print(sentences[0])"
      ],
      "execution_count": null,
      "outputs": [
        {
          "output_type": "stream",
          "text": [
            "30000\n",
            "<start> A black dog is running after a white dog in the snow . <end>\n"
          ],
          "name": "stdout"
        }
      ]
    },
    {
      "cell_type": "markdown",
      "metadata": {
        "id": "708kJy1HQluo"
      },
      "source": [
        "- Melihat 5 data yang ada pada kolom caption\n",
        "- Men-split data yang ada pada kolom caption kemudian disimpan dalam list of the list"
      ]
    },
    {
      "cell_type": "code",
      "metadata": {
        "id": "q_otMu6CaG9Q",
        "colab": {
          "base_uri": "https://localhost:8080/",
          "height": 520
        },
        "outputId": "444791fe-b216-4b1c-efb2-9c3f1017f937"
      },
      "source": [
        "# First 5 captions stored in sentences\n",
        "display(sentences[:5])\n",
        "\n",
        "# Splitting each captions stored in 'sentences' and storing them in 'words' as list of list\n",
        "words = [i.split() for i in sentences]\n",
        "words[:2]"
      ],
      "execution_count": null,
      "outputs": [
        {
          "output_type": "display_data",
          "data": {
            "text/plain": [
              "['<start> A black dog is running after a white dog in the snow . <end>',\n",
              " '<start> Black dog chasing brown dog through snow <end>',\n",
              " '<start> Two dogs chase each other across the snowy ground . <end>',\n",
              " '<start> Two dogs play together in the snow . <end>',\n",
              " '<start> Two dogs running through a low lying body of water . <end>']"
            ]
          },
          "metadata": {
            "tags": []
          }
        },
        {
          "output_type": "execute_result",
          "data": {
            "text/plain": [
              "[['<start>',\n",
              "  'A',\n",
              "  'black',\n",
              "  'dog',\n",
              "  'is',\n",
              "  'running',\n",
              "  'after',\n",
              "  'a',\n",
              "  'white',\n",
              "  'dog',\n",
              "  'in',\n",
              "  'the',\n",
              "  'snow',\n",
              "  '.',\n",
              "  '<end>'],\n",
              " ['<start>',\n",
              "  'Black',\n",
              "  'dog',\n",
              "  'chasing',\n",
              "  'brown',\n",
              "  'dog',\n",
              "  'through',\n",
              "  'snow',\n",
              "  '<end>']]"
            ]
          },
          "metadata": {
            "tags": []
          },
          "execution_count": 33
        }
      ]
    },
    {
      "cell_type": "markdown",
      "metadata": {
        "id": "iQsjEh1URmcH"
      },
      "source": [
        "- Membuat list dari semua kata-kata unik\n",
        "- Kata unik disini artinya kata yang tidak sama "
      ]
    },
    {
      "cell_type": "code",
      "metadata": {
        "id": "vPdw-rebaKqR",
        "colab": {
          "base_uri": "https://localhost:8080/",
          "height": 35
        },
        "outputId": "6cbf46c7-984b-4f43-cd9b-a82a867b83d9"
      },
      "source": [
        "# Creating a list of all unique words\n",
        "unique = []\n",
        "for i in words:\n",
        "    unique.extend(i)\n",
        "unique = list(set(unique))\n",
        "\n",
        "print(len(unique))\n",
        "\n",
        "vocab_size = len(unique)"
      ],
      "execution_count": null,
      "outputs": [
        {
          "output_type": "stream",
          "text": [
            "8253\n"
          ],
          "name": "stdout"
        }
      ]
    },
    {
      "cell_type": "markdown",
      "metadata": {
        "id": "g19aCQ1tQr7v"
      },
      "source": [
        "## Membuat Vektor Kata-Kata"
      ]
    },
    {
      "cell_type": "markdown",
      "metadata": {
        "id": "nrDBXFnpvNE8"
      },
      "source": [
        "- Membuat index untuk semua kata-kata unik di himpunan vocab\n",
        "- Membuat transpose datanya dalam hal ini kata-kata unik dipadankan dengan indexnya \n",
        "\n",
        "PR \n",
        "- Validasi index dari angka berapa untuk vocab ?"
      ]
    },
    {
      "cell_type": "code",
      "metadata": {
        "id": "eED6Mt7XaNyJ",
        "colab": {
          "base_uri": "https://localhost:8080/",
          "height": 104
        },
        "outputId": "8e857874-bdd9-4a51-c83b-48c5feeb00d4"
      },
      "source": [
        "# Vectorization\n",
        "word_2_indices = {val:index for index, val in enumerate(unique,1)}\n",
        "indices_2_word = {index:val for index, val in enumerate(unique,1)}\n",
        "\n",
        "word_2_indices['UNK'] = 0\n",
        "#word_2_indices['raining'] = 8254\n",
        "\n",
        "indices_2_word[0] = 'UNK'\n",
        "#indices_2_word[8254] = 'raining'\n",
        "\n",
        "print(word_2_indices['<start>'])\n",
        "print(indices_2_word[4011])\n",
        "\n",
        "print(word_2_indices['<end>'])\n",
        "print(indices_2_word[8051])\n",
        "\n",
        "vocab_size = len(word_2_indices.keys())\n",
        "print(vocab_size)"
      ],
      "execution_count": null,
      "outputs": [
        {
          "output_type": "stream",
          "text": [
            "1700\n",
            "ridge\n",
            "3459\n",
            "focuses\n",
            "8254\n"
          ],
          "name": "stdout"
        }
      ]
    },
    {
      "cell_type": "markdown",
      "metadata": {
        "id": "JRsTV714xXIv"
      },
      "source": [
        "- Memeriksa maksimum panjang caption yang ada pada setiap kalimat"
      ]
    },
    {
      "cell_type": "code",
      "metadata": {
        "id": "3jVyzx5RaV5S",
        "colab": {
          "base_uri": "https://localhost:8080/",
          "height": 35
        },
        "outputId": "6535df24-a0a2-4c23-f841-56f93d775d9b"
      },
      "source": [
        "max_len = max([len(i.split()) for i in sentences])\n",
        "print(max_len)\n",
        "\n",
        "with open('/content/drive/My Drive/RepSession_DSI/Data_Image_Captioning_Flickr8K/Flickr_Data/Result/max_len_sentence.p', 'wb') as f:\n",
        "    pickle.dump(max_len,f)"
      ],
      "execution_count": null,
      "outputs": [
        {
          "output_type": "stream",
          "text": [
            "40\n"
          ],
          "name": "stdout"
        }
      ]
    },
    {
      "cell_type": "code",
      "metadata": {
        "id": "LtgbEw-u0yvY"
      },
      "source": [
        "with open('/content/drive/My Drive/RepSession_DSI/Data_Image_Captioning_Flickr8K/Flickr_Data/Result/train_encoded_images.p', 'wb') as f:\n",
        "    pickle.dump(word_2_indices,f)"
      ],
      "execution_count": null,
      "outputs": []
    },
    {
      "cell_type": "markdown",
      "metadata": {
        "id": "tp2DxLaOx6Gm"
      },
      "source": [
        "- Menambahkan nilai dummy\n",
        "- Membangkit kata kembali"
      ]
    },
    {
      "cell_type": "code",
      "metadata": {
        "id": "HT4DOLQtaZtv",
        "colab": {
          "base_uri": "https://localhost:8080/",
          "height": 780
        },
        "outputId": "8ba602ef-089f-4ce0-9fee-09c3dfcd90d0"
      },
      "source": [
        "padded_sequences, subsequent_words = [], []\n",
        "\n",
        "for ix in range(ds.shape[0]):\n",
        "    partial_seqs = []\n",
        "    next_words = []\n",
        "    text = ds[ix, 1].split()\n",
        "    text = [word_2_indices[i] for i in text]\n",
        "    for i in range(1, len(text)):\n",
        "        partial_seqs.append(text[:i])\n",
        "        next_words.append(text[i])\n",
        "    padded_partial_seqs = sequence.pad_sequences(partial_seqs, max_len, padding='post')\n",
        "\n",
        "    next_words_1hot = np.zeros([len(next_words), vocab_size], dtype=np.bool)\n",
        "    \n",
        "    #Vectorization\n",
        "    for i,next_word in enumerate(next_words):\n",
        "        next_words_1hot[i, next_word] = 1\n",
        "        \n",
        "    padded_sequences.append(padded_partial_seqs)\n",
        "    subsequent_words.append(next_words_1hot)\n",
        "    \n",
        "padded_sequences = np.asarray(padded_sequences)\n",
        "subsequent_words = np.asarray(subsequent_words)\n",
        "\n",
        "print(padded_sequences.shape)\n",
        "print(subsequent_words.shape)\n",
        "\n",
        "print(padded_sequences[0])"
      ],
      "execution_count": null,
      "outputs": [
        {
          "output_type": "stream",
          "text": [
            "(30000,)\n",
            "(30000,)\n",
            "[[1700    0    0    0    0    0    0    0    0    0    0    0    0    0\n",
            "     0    0    0    0    0    0    0    0    0    0    0    0    0    0\n",
            "     0    0    0    0    0    0    0    0    0    0    0    0]\n",
            " [1700 6280    0    0    0    0    0    0    0    0    0    0    0    0\n",
            "     0    0    0    0    0    0    0    0    0    0    0    0    0    0\n",
            "     0    0    0    0    0    0    0    0    0    0    0    0]\n",
            " [1700 6280 3454    0    0    0    0    0    0    0    0    0    0    0\n",
            "     0    0    0    0    0    0    0    0    0    0    0    0    0    0\n",
            "     0    0    0    0    0    0    0    0    0    0    0    0]\n",
            " [1700 6280 3454 7435    0    0    0    0    0    0    0    0    0    0\n",
            "     0    0    0    0    0    0    0    0    0    0    0    0    0    0\n",
            "     0    0    0    0    0    0    0    0    0    0    0    0]\n",
            " [1700 6280 3454 7435 2425    0    0    0    0    0    0    0    0    0\n",
            "     0    0    0    0    0    0    0    0    0    0    0    0    0    0\n",
            "     0    0    0    0    0    0    0    0    0    0    0    0]\n",
            " [1700 6280 3454 7435 2425 7301    0    0    0    0    0    0    0    0\n",
            "     0    0    0    0    0    0    0    0    0    0    0    0    0    0\n",
            "     0    0    0    0    0    0    0    0    0    0    0    0]\n",
            " [1700 6280 3454 7435 2425 7301 6454    0    0    0    0    0    0    0\n",
            "     0    0    0    0    0    0    0    0    0    0    0    0    0    0\n",
            "     0    0    0    0    0    0    0    0    0    0    0    0]\n",
            " [1700 6280 3454 7435 2425 7301 6454 2996    0    0    0    0    0    0\n",
            "     0    0    0    0    0    0    0    0    0    0    0    0    0    0\n",
            "     0    0    0    0    0    0    0    0    0    0    0    0]\n",
            " [1700 6280 3454 7435 2425 7301 6454 2996  438    0    0    0    0    0\n",
            "     0    0    0    0    0    0    0    0    0    0    0    0    0    0\n",
            "     0    0    0    0    0    0    0    0    0    0    0    0]\n",
            " [1700 6280 3454 7435 2425 7301 6454 2996  438 7435    0    0    0    0\n",
            "     0    0    0    0    0    0    0    0    0    0    0    0    0    0\n",
            "     0    0    0    0    0    0    0    0    0    0    0    0]\n",
            " [1700 6280 3454 7435 2425 7301 6454 2996  438 7435  757    0    0    0\n",
            "     0    0    0    0    0    0    0    0    0    0    0    0    0    0\n",
            "     0    0    0    0    0    0    0    0    0    0    0    0]\n",
            " [1700 6280 3454 7435 2425 7301 6454 2996  438 7435  757 5988    0    0\n",
            "     0    0    0    0    0    0    0    0    0    0    0    0    0    0\n",
            "     0    0    0    0    0    0    0    0    0    0    0    0]\n",
            " [1700 6280 3454 7435 2425 7301 6454 2996  438 7435  757 5988 6322    0\n",
            "     0    0    0    0    0    0    0    0    0    0    0    0    0    0\n",
            "     0    0    0    0    0    0    0    0    0    0    0    0]\n",
            " [1700 6280 3454 7435 2425 7301 6454 2996  438 7435  757 5988 6322 2525\n",
            "     0    0    0    0    0    0    0    0    0    0    0    0    0    0\n",
            "     0    0    0    0    0    0    0    0    0    0    0    0]]\n"
          ],
          "name": "stdout"
        }
      ]
    },
    {
      "cell_type": "markdown",
      "metadata": {
        "id": "q0JV8S_5zX1A"
      },
      "source": [
        "- "
      ]
    },
    {
      "cell_type": "code",
      "metadata": {
        "id": "GDejIrOTaZqp",
        "colab": {
          "base_uri": "https://localhost:8080/",
          "height": 1000
        },
        "outputId": "7715992f-1df6-4adf-fe52-426b0c43ae5c"
      },
      "source": [
        "for ix in range(len(padded_sequences[0])):\n",
        "    for iy in range(max_len):\n",
        "        print(indices_2_word[padded_sequences[0][ix][iy]],)\n",
        "    print(\"\\n\")\n",
        "\n",
        "print(len(padded_sequences[0]))\n",
        "\n",
        "num_of_images = 2000"
      ],
      "execution_count": null,
      "outputs": [
        {
          "output_type": "stream",
          "text": [
            "<start>\n",
            "UNK\n",
            "UNK\n",
            "UNK\n",
            "UNK\n",
            "UNK\n",
            "UNK\n",
            "UNK\n",
            "UNK\n",
            "UNK\n",
            "UNK\n",
            "UNK\n",
            "UNK\n",
            "UNK\n",
            "UNK\n",
            "UNK\n",
            "UNK\n",
            "UNK\n",
            "UNK\n",
            "UNK\n",
            "UNK\n",
            "UNK\n",
            "UNK\n",
            "UNK\n",
            "UNK\n",
            "UNK\n",
            "UNK\n",
            "UNK\n",
            "UNK\n",
            "UNK\n",
            "UNK\n",
            "UNK\n",
            "UNK\n",
            "UNK\n",
            "UNK\n",
            "UNK\n",
            "UNK\n",
            "UNK\n",
            "UNK\n",
            "UNK\n",
            "\n",
            "\n",
            "<start>\n",
            "A\n",
            "UNK\n",
            "UNK\n",
            "UNK\n",
            "UNK\n",
            "UNK\n",
            "UNK\n",
            "UNK\n",
            "UNK\n",
            "UNK\n",
            "UNK\n",
            "UNK\n",
            "UNK\n",
            "UNK\n",
            "UNK\n",
            "UNK\n",
            "UNK\n",
            "UNK\n",
            "UNK\n",
            "UNK\n",
            "UNK\n",
            "UNK\n",
            "UNK\n",
            "UNK\n",
            "UNK\n",
            "UNK\n",
            "UNK\n",
            "UNK\n",
            "UNK\n",
            "UNK\n",
            "UNK\n",
            "UNK\n",
            "UNK\n",
            "UNK\n",
            "UNK\n",
            "UNK\n",
            "UNK\n",
            "UNK\n",
            "UNK\n",
            "\n",
            "\n",
            "<start>\n",
            "A\n",
            "black\n",
            "UNK\n",
            "UNK\n",
            "UNK\n",
            "UNK\n",
            "UNK\n",
            "UNK\n",
            "UNK\n",
            "UNK\n",
            "UNK\n",
            "UNK\n",
            "UNK\n",
            "UNK\n",
            "UNK\n",
            "UNK\n",
            "UNK\n",
            "UNK\n",
            "UNK\n",
            "UNK\n",
            "UNK\n",
            "UNK\n",
            "UNK\n",
            "UNK\n",
            "UNK\n",
            "UNK\n",
            "UNK\n",
            "UNK\n",
            "UNK\n",
            "UNK\n",
            "UNK\n",
            "UNK\n",
            "UNK\n",
            "UNK\n",
            "UNK\n",
            "UNK\n",
            "UNK\n",
            "UNK\n",
            "UNK\n",
            "\n",
            "\n",
            "<start>\n",
            "A\n",
            "black\n",
            "dog\n",
            "UNK\n",
            "UNK\n",
            "UNK\n",
            "UNK\n",
            "UNK\n",
            "UNK\n",
            "UNK\n",
            "UNK\n",
            "UNK\n",
            "UNK\n",
            "UNK\n",
            "UNK\n",
            "UNK\n",
            "UNK\n",
            "UNK\n",
            "UNK\n",
            "UNK\n",
            "UNK\n",
            "UNK\n",
            "UNK\n",
            "UNK\n",
            "UNK\n",
            "UNK\n",
            "UNK\n",
            "UNK\n",
            "UNK\n",
            "UNK\n",
            "UNK\n",
            "UNK\n",
            "UNK\n",
            "UNK\n",
            "UNK\n",
            "UNK\n",
            "UNK\n",
            "UNK\n",
            "UNK\n",
            "\n",
            "\n",
            "<start>\n",
            "A\n",
            "black\n",
            "dog\n",
            "is\n",
            "UNK\n",
            "UNK\n",
            "UNK\n",
            "UNK\n",
            "UNK\n",
            "UNK\n",
            "UNK\n",
            "UNK\n",
            "UNK\n",
            "UNK\n",
            "UNK\n",
            "UNK\n",
            "UNK\n",
            "UNK\n",
            "UNK\n",
            "UNK\n",
            "UNK\n",
            "UNK\n",
            "UNK\n",
            "UNK\n",
            "UNK\n",
            "UNK\n",
            "UNK\n",
            "UNK\n",
            "UNK\n",
            "UNK\n",
            "UNK\n",
            "UNK\n",
            "UNK\n",
            "UNK\n",
            "UNK\n",
            "UNK\n",
            "UNK\n",
            "UNK\n",
            "UNK\n",
            "\n",
            "\n",
            "<start>\n",
            "A\n",
            "black\n",
            "dog\n",
            "is\n",
            "running\n",
            "UNK\n",
            "UNK\n",
            "UNK\n",
            "UNK\n",
            "UNK\n",
            "UNK\n",
            "UNK\n",
            "UNK\n",
            "UNK\n",
            "UNK\n",
            "UNK\n",
            "UNK\n",
            "UNK\n",
            "UNK\n",
            "UNK\n",
            "UNK\n",
            "UNK\n",
            "UNK\n",
            "UNK\n",
            "UNK\n",
            "UNK\n",
            "UNK\n",
            "UNK\n",
            "UNK\n",
            "UNK\n",
            "UNK\n",
            "UNK\n",
            "UNK\n",
            "UNK\n",
            "UNK\n",
            "UNK\n",
            "UNK\n",
            "UNK\n",
            "UNK\n",
            "\n",
            "\n",
            "<start>\n",
            "A\n",
            "black\n",
            "dog\n",
            "is\n",
            "running\n",
            "after\n",
            "UNK\n",
            "UNK\n",
            "UNK\n",
            "UNK\n",
            "UNK\n",
            "UNK\n",
            "UNK\n",
            "UNK\n",
            "UNK\n",
            "UNK\n",
            "UNK\n",
            "UNK\n",
            "UNK\n",
            "UNK\n",
            "UNK\n",
            "UNK\n",
            "UNK\n",
            "UNK\n",
            "UNK\n",
            "UNK\n",
            "UNK\n",
            "UNK\n",
            "UNK\n",
            "UNK\n",
            "UNK\n",
            "UNK\n",
            "UNK\n",
            "UNK\n",
            "UNK\n",
            "UNK\n",
            "UNK\n",
            "UNK\n",
            "UNK\n",
            "\n",
            "\n",
            "<start>\n",
            "A\n",
            "black\n",
            "dog\n",
            "is\n",
            "running\n",
            "after\n",
            "a\n",
            "UNK\n",
            "UNK\n",
            "UNK\n",
            "UNK\n",
            "UNK\n",
            "UNK\n",
            "UNK\n",
            "UNK\n",
            "UNK\n",
            "UNK\n",
            "UNK\n",
            "UNK\n",
            "UNK\n",
            "UNK\n",
            "UNK\n",
            "UNK\n",
            "UNK\n",
            "UNK\n",
            "UNK\n",
            "UNK\n",
            "UNK\n",
            "UNK\n",
            "UNK\n",
            "UNK\n",
            "UNK\n",
            "UNK\n",
            "UNK\n",
            "UNK\n",
            "UNK\n",
            "UNK\n",
            "UNK\n",
            "UNK\n",
            "\n",
            "\n",
            "<start>\n",
            "A\n",
            "black\n",
            "dog\n",
            "is\n",
            "running\n",
            "after\n",
            "a\n",
            "white\n",
            "UNK\n",
            "UNK\n",
            "UNK\n",
            "UNK\n",
            "UNK\n",
            "UNK\n",
            "UNK\n",
            "UNK\n",
            "UNK\n",
            "UNK\n",
            "UNK\n",
            "UNK\n",
            "UNK\n",
            "UNK\n",
            "UNK\n",
            "UNK\n",
            "UNK\n",
            "UNK\n",
            "UNK\n",
            "UNK\n",
            "UNK\n",
            "UNK\n",
            "UNK\n",
            "UNK\n",
            "UNK\n",
            "UNK\n",
            "UNK\n",
            "UNK\n",
            "UNK\n",
            "UNK\n",
            "UNK\n",
            "\n",
            "\n",
            "<start>\n",
            "A\n",
            "black\n",
            "dog\n",
            "is\n",
            "running\n",
            "after\n",
            "a\n",
            "white\n",
            "dog\n",
            "UNK\n",
            "UNK\n",
            "UNK\n",
            "UNK\n",
            "UNK\n",
            "UNK\n",
            "UNK\n",
            "UNK\n",
            "UNK\n",
            "UNK\n",
            "UNK\n",
            "UNK\n",
            "UNK\n",
            "UNK\n",
            "UNK\n",
            "UNK\n",
            "UNK\n",
            "UNK\n",
            "UNK\n",
            "UNK\n",
            "UNK\n",
            "UNK\n",
            "UNK\n",
            "UNK\n",
            "UNK\n",
            "UNK\n",
            "UNK\n",
            "UNK\n",
            "UNK\n",
            "UNK\n",
            "\n",
            "\n",
            "<start>\n",
            "A\n",
            "black\n",
            "dog\n",
            "is\n",
            "running\n",
            "after\n",
            "a\n",
            "white\n",
            "dog\n",
            "in\n",
            "UNK\n",
            "UNK\n",
            "UNK\n",
            "UNK\n",
            "UNK\n",
            "UNK\n",
            "UNK\n",
            "UNK\n",
            "UNK\n",
            "UNK\n",
            "UNK\n",
            "UNK\n",
            "UNK\n",
            "UNK\n",
            "UNK\n",
            "UNK\n",
            "UNK\n",
            "UNK\n",
            "UNK\n",
            "UNK\n",
            "UNK\n",
            "UNK\n",
            "UNK\n",
            "UNK\n",
            "UNK\n",
            "UNK\n",
            "UNK\n",
            "UNK\n",
            "UNK\n",
            "\n",
            "\n",
            "<start>\n",
            "A\n",
            "black\n",
            "dog\n",
            "is\n",
            "running\n",
            "after\n",
            "a\n",
            "white\n",
            "dog\n",
            "in\n",
            "the\n",
            "UNK\n",
            "UNK\n",
            "UNK\n",
            "UNK\n",
            "UNK\n",
            "UNK\n",
            "UNK\n",
            "UNK\n",
            "UNK\n",
            "UNK\n",
            "UNK\n",
            "UNK\n",
            "UNK\n",
            "UNK\n",
            "UNK\n",
            "UNK\n",
            "UNK\n",
            "UNK\n",
            "UNK\n",
            "UNK\n",
            "UNK\n",
            "UNK\n",
            "UNK\n",
            "UNK\n",
            "UNK\n",
            "UNK\n",
            "UNK\n",
            "UNK\n",
            "\n",
            "\n",
            "<start>\n",
            "A\n",
            "black\n",
            "dog\n",
            "is\n",
            "running\n",
            "after\n",
            "a\n",
            "white\n",
            "dog\n",
            "in\n",
            "the\n",
            "snow\n",
            "UNK\n",
            "UNK\n",
            "UNK\n",
            "UNK\n",
            "UNK\n",
            "UNK\n",
            "UNK\n",
            "UNK\n",
            "UNK\n",
            "UNK\n",
            "UNK\n",
            "UNK\n",
            "UNK\n",
            "UNK\n",
            "UNK\n",
            "UNK\n",
            "UNK\n",
            "UNK\n",
            "UNK\n",
            "UNK\n",
            "UNK\n",
            "UNK\n",
            "UNK\n",
            "UNK\n",
            "UNK\n",
            "UNK\n",
            "UNK\n",
            "\n",
            "\n",
            "<start>\n",
            "A\n",
            "black\n",
            "dog\n",
            "is\n",
            "running\n",
            "after\n",
            "a\n",
            "white\n",
            "dog\n",
            "in\n",
            "the\n",
            "snow\n",
            ".\n",
            "UNK\n",
            "UNK\n",
            "UNK\n",
            "UNK\n",
            "UNK\n",
            "UNK\n",
            "UNK\n",
            "UNK\n",
            "UNK\n",
            "UNK\n",
            "UNK\n",
            "UNK\n",
            "UNK\n",
            "UNK\n",
            "UNK\n",
            "UNK\n",
            "UNK\n",
            "UNK\n",
            "UNK\n",
            "UNK\n",
            "UNK\n",
            "UNK\n",
            "UNK\n",
            "UNK\n",
            "UNK\n",
            "UNK\n",
            "\n",
            "\n",
            "14\n"
          ],
          "name": "stdout"
        }
      ]
    },
    {
      "cell_type": "markdown",
      "metadata": {
        "id": "zbB6XG4Dzxg3"
      },
      "source": [
        "- Menggabungkan captions dengan kata selanjutnya\n",
        "- "
      ]
    },
    {
      "cell_type": "code",
      "metadata": {
        "id": "QYgY1JbRakTP",
        "colab": {
          "base_uri": "https://localhost:8080/",
          "height": 52
        },
        "outputId": "9b61fd27-acbd-4774-fc50-5e509477951d"
      },
      "source": [
        "captions = np.zeros([0, max_len])\n",
        "next_words = np.zeros([0, vocab_size])\n",
        "\n",
        "for ix in range(num_of_images):#img_to_padded_seqs.shape[0]):\n",
        "    captions = np.concatenate([captions, padded_sequences[ix]])\n",
        "    next_words = np.concatenate([next_words, subsequent_words[ix]])\n",
        "\n",
        "# save the name\n",
        "np.save(\"/content/drive/My Drive/RepSession_DSI/Data_Image_Captioning_Flickr8K/Flickr_Data/Result/captions.npy\", captions)\n",
        "np.save(\"/content/drive/My Drive/RepSession_DSI/Data_Image_Captioning_Flickr8K/Flickr_Data/Result/next_words.npy\", next_words)\n",
        "\n",
        "# Check the dimensions\n",
        "print(captions.shape)\n",
        "print(next_words.shape)"
      ],
      "execution_count": null,
      "outputs": [
        {
          "output_type": "stream",
          "text": [
            "(25493, 40)\n",
            "(25493, 8254)\n"
          ],
          "name": "stdout"
        }
      ]
    },
    {
      "cell_type": "markdown",
      "metadata": {
        "id": "EWospK-5z8Mn"
      },
      "source": [
        "Jika sudah memliki caption.npy dan next word.np bisa langsung ke isni"
      ]
    },
    {
      "cell_type": "code",
      "metadata": {
        "id": "PUOT0ieEze_G"
      },
      "source": [
        "caption = np.load(\"/content/drive/My Drive/RepSession_DSI/Data_Image_Captioning_Flickr8K/Flickr_Data/Result/captions.npy\")\n",
        "next_word = np.load(\"/content/drive/My Drive/RepSession_DSI/Data_Image_Captioning_Flickr8K/Flickr_Data/Result/next_words.npy\")"
      ],
      "execution_count": null,
      "outputs": []
    },
    {
      "cell_type": "code",
      "metadata": {
        "id": "dU9OLlGy0U1B"
      },
      "source": [
        "with open('/content/drive/My Drive/RepSession_DSI/Data_Image_Captioning_Flickr8K/Flickr_Data/Result/vocab.p', 'rb') as f:\n",
        "    word_2_indices = pickle.load(f)\n",
        "\n",
        "indices_2_word = {index:val for val, index in word_2_indices.items()}\n",
        "vocab_size = len(word_2_indices)"
      ],
      "execution_count": null,
      "outputs": []
    },
    {
      "cell_type": "code",
      "metadata": {
        "id": "qRXntPeXbJOe"
      },
      "source": [
        "with open('/content/drive/My Drive/RepSession_DSI/Data_Image_Captioning_Flickr8K/Flickr_Data/Result/train_encoded_images.p', 'rb') as f:\n",
        "    encoded_images = pickle.load(f, encoding=\"bytes\")"
      ],
      "execution_count": null,
      "outputs": []
    },
    {
      "cell_type": "code",
      "metadata": {
        "id": "A1Gdkrqsblow",
        "colab": {
          "base_uri": "https://localhost:8080/",
          "height": 131
        },
        "outputId": "c7229340-4af2-43f3-bce0-b8b6437addb9"
      },
      "source": [
        "imgs = []\n",
        "\n",
        "for ix in range(ds.shape[0]):\n",
        "    if ds[ix, 0] in encoded_images.keys():\n",
        "        #print(ix, encoded_images[ds[ix, 0].encode()])\n",
        "        imgs.append(list(encoded_images[ds[ix, 0]]))\n",
        "imgs = np.asarray(imgs)\n",
        "print(imgs)"
      ],
      "execution_count": null,
      "outputs": [
        {
          "output_type": "stream",
          "text": [
            "[[0.4052755  1.1592709  0.27029932 ... 0.41691053 0.         0.34826237]\n",
            " [0.4052755  1.1592709  0.27029932 ... 0.41691053 0.         0.34826237]\n",
            " [0.4052755  1.1592709  0.27029932 ... 0.41691053 0.         0.34826237]\n",
            " ...\n",
            " [0.0411736  1.1419293  0.06949896 ... 0.07303671 1.2326471  1.6955845 ]\n",
            " [0.0411736  1.1419293  0.06949896 ... 0.07303671 1.2326471  1.6955845 ]\n",
            " [0.0411736  1.1419293  0.06949896 ... 0.07303671 1.2326471  1.6955845 ]]\n"
          ],
          "name": "stdout"
        }
      ]
    },
    {
      "cell_type": "code",
      "metadata": {
        "id": "65fBwGP0bq7Z",
        "colab": {
          "base_uri": "https://localhost:8080/",
          "height": 33
        },
        "outputId": "a7acaacc-2f08-4b4f-e2df-a25cd2b176f4"
      },
      "source": [
        "images = []\n",
        "\n",
        "for ix in range(num_of_images):\n",
        "    for iy in range(padded_sequences[ix].shape[0]):\n",
        "        images.append(imgs[ix])\n",
        "        \n",
        "images = np.asarray(images)\n",
        "\n",
        "np.save(\"/content/drive/My Drive/RepSession_DSI/Data_Image_Captioning_Flickr8K/Flickr_Data/Result/images.npy\", images)\n",
        "\n",
        "print(images.shape)"
      ],
      "execution_count": null,
      "outputs": [
        {
          "output_type": "stream",
          "text": [
            "(25493, 2048)\n"
          ],
          "name": "stdout"
        }
      ]
    },
    {
      "cell_type": "code",
      "metadata": {
        "id": "WH0oqANRbsfr",
        "colab": {
          "base_uri": "https://localhost:8080/",
          "height": 33
        },
        "outputId": "8d6f31b6-115f-41da-d1fc-bd62d5ef1ef0"
      },
      "source": [
        "image_names = []\n",
        "\n",
        "for ix in range(num_of_images):\n",
        "    for iy in range(padded_sequences[ix].shape[0]):\n",
        "        image_names.append(ds[ix, 0])\n",
        "        \n",
        "image_names = np.asarray(image_names)\n",
        "\n",
        "np.save(\"/content/drive/My Drive/RepSession_DSI/Data_Image_Captioning_Flickr8K/Flickr_Data/Result/image_names.npy\", image_names)\n",
        "\n",
        "print(len(image_names))"
      ],
      "execution_count": null,
      "outputs": [
        {
          "output_type": "stream",
          "text": [
            "25493\n"
          ],
          "name": "stdout"
        }
      ]
    },
    {
      "cell_type": "code",
      "metadata": {
        "id": "sgdUdEfwbuGn",
        "colab": {
          "base_uri": "https://localhost:8080/",
          "height": 52
        },
        "outputId": "b52f727a-c553-4ea5-9294-aa2060652d7f"
      },
      "source": [
        "captions = np.load(\"/content/drive/My Drive/RepSession_DSI/Data_Image_Captioning_Flickr8K/Flickr_Data/Result/captions.npy\")\n",
        "next_words = np.load(\"/content/drive/My Drive/RepSession_DSI/Data_Image_Captioning_Flickr8K/Flickr_Data/Result/next_words.npy\")\n",
        "\n",
        "print(captions.shape)\n",
        "print(next_words.shape)"
      ],
      "execution_count": null,
      "outputs": [
        {
          "output_type": "stream",
          "text": [
            "(25493, 40)\n",
            "(25493, 8254)\n"
          ],
          "name": "stdout"
        }
      ]
    },
    {
      "cell_type": "code",
      "metadata": {
        "id": "Qrb_yDuqbvcD",
        "colab": {
          "base_uri": "https://localhost:8080/",
          "height": 35
        },
        "outputId": "dd335704-317a-4c5c-c602-baa9308aad4d"
      },
      "source": [
        "images = np.load(\"/content/drive/My Drive/RepSession_DSI/Data_Image_Captioning_Flickr8K/Flickr_Data/Result/images.npy\")\n",
        "\n",
        "print(images.shape)"
      ],
      "execution_count": null,
      "outputs": [
        {
          "output_type": "stream",
          "text": [
            "(25493, 2048)\n"
          ],
          "name": "stdout"
        }
      ]
    },
    {
      "cell_type": "code",
      "metadata": {
        "id": "kF0D1yiYbxPQ",
        "colab": {
          "base_uri": "https://localhost:8080/",
          "height": 35
        },
        "outputId": "b71f47a8-6e9b-4220-af55-4051f80ebf0b"
      },
      "source": [
        "imag = np.load(\"/content/drive/My Drive/RepSession_DSI/Data_Image_Captioning_Flickr8K/Flickr_Data/Result/image_names.npy\")\n",
        "        \n",
        "print(imag.shape)"
      ],
      "execution_count": null,
      "outputs": [
        {
          "output_type": "stream",
          "text": [
            "(25493,)\n"
          ],
          "name": "stdout"
        }
      ]
    },
    {
      "cell_type": "code",
      "metadata": {
        "id": "pGw84jsNbypQ"
      },
      "source": [
        "embedding_size = 128\n",
        "with open('/content/drive/My Drive/RepSession_DSI/Data_Image_Captioning_Flickr8K/Flickr_Data/Result/max_len_sentence.p', 'rb') as f:\n",
        "    max_len = pickle.load(f)"
      ],
      "execution_count": null,
      "outputs": []
    },
    {
      "cell_type": "code",
      "metadata": {
        "id": "q-Zt5RNIb0Do",
        "colab": {
          "base_uri": "https://localhost:8080/",
          "height": 225
        },
        "outputId": "386d7722-994f-4cf9-f23c-be11473d2f8c"
      },
      "source": [
        "image_model = Sequential()\n",
        "\n",
        "image_model.add(Dense(embedding_size, input_shape=(2048,), activation='relu'))\n",
        "image_model.add(RepeatVector(max_len))\n",
        "\n",
        "image_model.summary()"
      ],
      "execution_count": null,
      "outputs": [
        {
          "output_type": "stream",
          "text": [
            "Model: \"sequential\"\n",
            "_________________________________________________________________\n",
            "Layer (type)                 Output Shape              Param #   \n",
            "=================================================================\n",
            "dense (Dense)                (None, 128)               262272    \n",
            "_________________________________________________________________\n",
            "repeat_vector (RepeatVector) (None, 40, 128)           0         \n",
            "=================================================================\n",
            "Total params: 262,272\n",
            "Trainable params: 262,272\n",
            "Non-trainable params: 0\n",
            "_________________________________________________________________\n"
          ],
          "name": "stdout"
        }
      ]
    },
    {
      "cell_type": "code",
      "metadata": {
        "id": "zrGeiW32b1rQ",
        "colab": {
          "base_uri": "https://localhost:8080/",
          "height": 260
        },
        "outputId": "7901a91f-1e76-429c-9f3a-b9f335839831"
      },
      "source": [
        "language_model = Sequential()\n",
        "\n",
        "language_model.add(Embedding(input_dim=vocab_size, output_dim=embedding_size, input_length=max_len))\n",
        "language_model.add(LSTM(256, return_sequences=True))\n",
        "language_model.add(TimeDistributed(Dense(embedding_size)))\n",
        "\n",
        "language_model.summary()"
      ],
      "execution_count": null,
      "outputs": [
        {
          "output_type": "stream",
          "text": [
            "Model: \"sequential_2\"\n",
            "_________________________________________________________________\n",
            "Layer (type)                 Output Shape              Param #   \n",
            "=================================================================\n",
            "embedding_1 (Embedding)      (None, 40, 128)           1056512   \n",
            "_________________________________________________________________\n",
            "lstm_1 (LSTM)                (None, 40, 256)           394240    \n",
            "_________________________________________________________________\n",
            "time_distributed_1 (TimeDist (None, 40, 128)           32896     \n",
            "=================================================================\n",
            "Total params: 1,483,648\n",
            "Trainable params: 1,483,648\n",
            "Non-trainable params: 0\n",
            "_________________________________________________________________\n"
          ],
          "name": "stdout"
        }
      ]
    },
    {
      "cell_type": "code",
      "metadata": {
        "id": "eowLrq-Ub3Q2",
        "colab": {
          "base_uri": "https://localhost:8080/",
          "height": 589
        },
        "outputId": "9f9e367a-f324-4f2e-9c2b-cebd89af5967"
      },
      "source": [
        "conca = Concatenate()([image_model.output, language_model.output])\n",
        "x = LSTM(128, return_sequences=True)(conca)\n",
        "x = LSTM(512, return_sequences=False)(x)\n",
        "x = Dense(vocab_size)(x)\n",
        "out = Activation('softmax')(x)\n",
        "model = Model(inputs=[image_model.input, language_model.input], outputs = out)\n",
        "\n",
        "#model.load_weights(\"/content/drive/My Drive/RepSession_DSI/Data_Image_Captioning_Flickr8K/Flickr_Data/Result/model_weights.h5\")\n",
        "model.compile(loss='categorical_crossentropy', optimizer='RMSprop', metrics=['accuracy'])\n",
        "model.summary()"
      ],
      "execution_count": null,
      "outputs": [
        {
          "output_type": "stream",
          "text": [
            "Model: \"functional_11\"\n",
            "__________________________________________________________________________________________________\n",
            "Layer (type)                    Output Shape         Param #     Connected to                     \n",
            "==================================================================================================\n",
            "embedding_1_input (InputLayer)  [(None, 40)]         0                                            \n",
            "__________________________________________________________________________________________________\n",
            "dense_input (InputLayer)        [(None, 2048)]       0                                            \n",
            "__________________________________________________________________________________________________\n",
            "embedding_1 (Embedding)         (None, 40, 128)      1056512     embedding_1_input[0][0]          \n",
            "__________________________________________________________________________________________________\n",
            "dense (Dense)                   (None, 128)          262272      dense_input[0][0]                \n",
            "__________________________________________________________________________________________________\n",
            "lstm_1 (LSTM)                   (None, 40, 256)      394240      embedding_1[0][0]                \n",
            "__________________________________________________________________________________________________\n",
            "repeat_vector (RepeatVector)    (None, 40, 128)      0           dense[0][0]                      \n",
            "__________________________________________________________________________________________________\n",
            "time_distributed_1 (TimeDistrib (None, 40, 128)      32896       lstm_1[0][0]                     \n",
            "__________________________________________________________________________________________________\n",
            "concatenate_5 (Concatenate)     (None, 40, 256)      0           repeat_vector[0][0]              \n",
            "                                                                 time_distributed_1[0][0]         \n",
            "__________________________________________________________________________________________________\n",
            "lstm_12 (LSTM)                  (None, 40, 128)      197120      concatenate_5[0][0]              \n",
            "__________________________________________________________________________________________________\n",
            "lstm_13 (LSTM)                  (None, 512)          1312768     lstm_12[0][0]                    \n",
            "__________________________________________________________________________________________________\n",
            "dense_8 (Dense)                 (None, 8254)         4234302     lstm_13[0][0]                    \n",
            "__________________________________________________________________________________________________\n",
            "activation_5 (Activation)       (None, 8254)         0           dense_8[0][0]                    \n",
            "==================================================================================================\n",
            "Total params: 7,490,110\n",
            "Trainable params: 7,490,110\n",
            "Non-trainable params: 0\n",
            "__________________________________________________________________________________________________\n"
          ],
          "name": "stdout"
        }
      ]
    },
    {
      "cell_type": "code",
      "metadata": {
        "id": "GGxyRH4zb5UG",
        "colab": {
          "base_uri": "https://localhost:8080/",
          "height": 1000
        },
        "outputId": "fcee9bda-7871-40d8-c819-f54389701548"
      },
      "source": [
        "hist = model.fit([images, captions], next_words, batch_size=512, epochs=200)"
      ],
      "execution_count": null,
      "outputs": [
        {
          "output_type": "stream",
          "text": [
            "Epoch 1/200\n",
            "50/50 [==============================] - 10s 200ms/step - loss: 5.5563 - accuracy: 0.1190\n",
            "Epoch 2/200\n",
            "50/50 [==============================] - 10s 196ms/step - loss: 4.7592 - accuracy: 0.2113\n",
            "Epoch 3/200\n",
            "50/50 [==============================] - 10s 197ms/step - loss: 4.4347 - accuracy: 0.2387\n",
            "Epoch 4/200\n",
            "50/50 [==============================] - 10s 197ms/step - loss: 4.1374 - accuracy: 0.2614\n",
            "Epoch 5/200\n",
            "50/50 [==============================] - 10s 197ms/step - loss: 3.8838 - accuracy: 0.2829\n",
            "Epoch 6/200\n",
            "50/50 [==============================] - 10s 197ms/step - loss: 3.6534 - accuracy: 0.3047\n",
            "Epoch 7/200\n",
            "50/50 [==============================] - 10s 198ms/step - loss: 3.4663 - accuracy: 0.3221\n",
            "Epoch 8/200\n",
            "50/50 [==============================] - 10s 198ms/step - loss: 3.2774 - accuracy: 0.3433\n",
            "Epoch 9/200\n",
            "50/50 [==============================] - 10s 198ms/step - loss: 3.1106 - accuracy: 0.3603\n",
            "Epoch 10/200\n",
            "50/50 [==============================] - 10s 198ms/step - loss: 2.9518 - accuracy: 0.3772\n",
            "Epoch 11/200\n",
            "50/50 [==============================] - 10s 199ms/step - loss: 2.8177 - accuracy: 0.3954\n",
            "Epoch 12/200\n",
            "50/50 [==============================] - 10s 202ms/step - loss: 2.6858 - accuracy: 0.4078\n",
            "Epoch 13/200\n",
            "50/50 [==============================] - 10s 200ms/step - loss: 2.5684 - accuracy: 0.4215\n",
            "Epoch 14/200\n",
            "50/50 [==============================] - 10s 200ms/step - loss: 2.4641 - accuracy: 0.4325\n",
            "Epoch 15/200\n",
            "50/50 [==============================] - 10s 199ms/step - loss: 2.3574 - accuracy: 0.4466\n",
            "Epoch 16/200\n",
            "50/50 [==============================] - 10s 200ms/step - loss: 2.2621 - accuracy: 0.4584\n",
            "Epoch 17/200\n",
            "50/50 [==============================] - 10s 199ms/step - loss: 2.1603 - accuracy: 0.4738\n",
            "Epoch 18/200\n",
            "50/50 [==============================] - 10s 199ms/step - loss: 2.0922 - accuracy: 0.4817\n",
            "Epoch 19/200\n",
            "50/50 [==============================] - 10s 202ms/step - loss: 2.0143 - accuracy: 0.4898\n",
            "Epoch 20/200\n",
            "50/50 [==============================] - 10s 199ms/step - loss: 1.9260 - accuracy: 0.5057\n",
            "Epoch 21/200\n",
            "50/50 [==============================] - 10s 199ms/step - loss: 1.8580 - accuracy: 0.5155\n",
            "Epoch 22/200\n",
            "50/50 [==============================] - 10s 199ms/step - loss: 1.7917 - accuracy: 0.5249\n",
            "Epoch 23/200\n",
            "50/50 [==============================] - 10s 199ms/step - loss: 1.7142 - accuracy: 0.5385\n",
            "Epoch 24/200\n",
            "50/50 [==============================] - 10s 199ms/step - loss: 1.6519 - accuracy: 0.5488\n",
            "Epoch 25/200\n",
            "50/50 [==============================] - 10s 201ms/step - loss: 1.5914 - accuracy: 0.5608\n",
            "Epoch 26/200\n",
            "50/50 [==============================] - 10s 200ms/step - loss: 1.5246 - accuracy: 0.5720\n",
            "Epoch 27/200\n",
            "50/50 [==============================] - 10s 199ms/step - loss: 1.4711 - accuracy: 0.5841\n",
            "Epoch 28/200\n",
            "50/50 [==============================] - 10s 199ms/step - loss: 1.4126 - accuracy: 0.5959\n",
            "Epoch 29/200\n",
            "50/50 [==============================] - 10s 200ms/step - loss: 1.3700 - accuracy: 0.6027\n",
            "Epoch 30/200\n",
            "50/50 [==============================] - 10s 201ms/step - loss: 1.3061 - accuracy: 0.6207\n",
            "Epoch 31/200\n",
            "50/50 [==============================] - 10s 200ms/step - loss: 1.2658 - accuracy: 0.6262\n",
            "Epoch 32/200\n",
            "50/50 [==============================] - 10s 200ms/step - loss: 1.2055 - accuracy: 0.6408\n",
            "Epoch 33/200\n",
            "50/50 [==============================] - 10s 201ms/step - loss: 1.1706 - accuracy: 0.6474\n",
            "Epoch 34/200\n",
            "50/50 [==============================] - 10s 200ms/step - loss: 1.1188 - accuracy: 0.6609\n",
            "Epoch 35/200\n",
            "50/50 [==============================] - 10s 199ms/step - loss: 1.0811 - accuracy: 0.6721\n",
            "Epoch 36/200\n",
            "50/50 [==============================] - 10s 200ms/step - loss: 1.0418 - accuracy: 0.6800\n",
            "Epoch 37/200\n",
            "50/50 [==============================] - 10s 200ms/step - loss: 1.0080 - accuracy: 0.6870\n",
            "Epoch 38/200\n",
            "50/50 [==============================] - 10s 200ms/step - loss: 0.9687 - accuracy: 0.6997\n",
            "Epoch 39/200\n",
            "50/50 [==============================] - 10s 200ms/step - loss: 0.9337 - accuracy: 0.7093\n",
            "Epoch 40/200\n",
            "50/50 [==============================] - 10s 201ms/step - loss: 0.8854 - accuracy: 0.7240\n",
            "Epoch 41/200\n",
            "50/50 [==============================] - 10s 199ms/step - loss: 0.8531 - accuracy: 0.7318\n",
            "Epoch 42/200\n",
            "50/50 [==============================] - 10s 198ms/step - loss: 0.8361 - accuracy: 0.7395\n",
            "Epoch 43/200\n",
            "50/50 [==============================] - 10s 200ms/step - loss: 0.7918 - accuracy: 0.7538\n",
            "Epoch 44/200\n",
            "50/50 [==============================] - 10s 199ms/step - loss: 0.7673 - accuracy: 0.7591\n",
            "Epoch 45/200\n",
            "50/50 [==============================] - 10s 199ms/step - loss: 0.7511 - accuracy: 0.7637\n",
            "Epoch 46/200\n",
            "50/50 [==============================] - 10s 200ms/step - loss: 0.7175 - accuracy: 0.7719\n",
            "Epoch 47/200\n",
            "50/50 [==============================] - 10s 199ms/step - loss: 0.6918 - accuracy: 0.7798\n",
            "Epoch 48/200\n",
            "50/50 [==============================] - 10s 199ms/step - loss: 0.6736 - accuracy: 0.7864\n",
            "Epoch 49/200\n",
            "50/50 [==============================] - 10s 199ms/step - loss: 0.6462 - accuracy: 0.7950\n",
            "Epoch 50/200\n",
            "50/50 [==============================] - 10s 200ms/step - loss: 0.6246 - accuracy: 0.8008\n",
            "Epoch 51/200\n",
            "50/50 [==============================] - 10s 198ms/step - loss: 0.6150 - accuracy: 0.8035\n",
            "Epoch 52/200\n",
            "50/50 [==============================] - 10s 199ms/step - loss: 0.5856 - accuracy: 0.8113\n",
            "Epoch 53/200\n",
            "50/50 [==============================] - 10s 200ms/step - loss: 0.5772 - accuracy: 0.8161\n",
            "Epoch 54/200\n",
            "50/50 [==============================] - 10s 200ms/step - loss: 0.5646 - accuracy: 0.8161\n",
            "Epoch 55/200\n",
            "50/50 [==============================] - 10s 198ms/step - loss: 0.5357 - accuracy: 0.8267\n",
            "Epoch 56/200\n",
            "50/50 [==============================] - 10s 201ms/step - loss: 0.5279 - accuracy: 0.8282\n",
            "Epoch 57/200\n",
            "50/50 [==============================] - 10s 200ms/step - loss: 0.5233 - accuracy: 0.8309\n",
            "Epoch 58/200\n",
            "50/50 [==============================] - 10s 200ms/step - loss: 0.4958 - accuracy: 0.8402\n",
            "Epoch 59/200\n",
            "50/50 [==============================] - 10s 200ms/step - loss: 0.4990 - accuracy: 0.8365\n",
            "Epoch 60/200\n",
            "50/50 [==============================] - 10s 199ms/step - loss: 0.4753 - accuracy: 0.8479\n",
            "Epoch 61/200\n",
            "50/50 [==============================] - 10s 199ms/step - loss: 0.4672 - accuracy: 0.8492\n",
            "Epoch 62/200\n",
            "50/50 [==============================] - 10s 200ms/step - loss: 0.4572 - accuracy: 0.8534\n",
            "Epoch 63/200\n",
            "50/50 [==============================] - 10s 199ms/step - loss: 0.4408 - accuracy: 0.8562\n",
            "Epoch 64/200\n",
            "50/50 [==============================] - 10s 199ms/step - loss: 0.4380 - accuracy: 0.8578\n",
            "Epoch 65/200\n",
            "50/50 [==============================] - 10s 200ms/step - loss: 0.4258 - accuracy: 0.8585\n",
            "Epoch 66/200\n",
            "50/50 [==============================] - 10s 200ms/step - loss: 0.4200 - accuracy: 0.8627\n",
            "Epoch 67/200\n",
            "50/50 [==============================] - 10s 199ms/step - loss: 0.4108 - accuracy: 0.8639\n",
            "Epoch 68/200\n",
            "50/50 [==============================] - 10s 200ms/step - loss: 0.4063 - accuracy: 0.8644\n",
            "Epoch 69/200\n",
            "50/50 [==============================] - 10s 199ms/step - loss: 0.4007 - accuracy: 0.8669\n",
            "Epoch 70/200\n",
            "50/50 [==============================] - 10s 201ms/step - loss: 0.4014 - accuracy: 0.8675\n",
            "Epoch 71/200\n",
            "50/50 [==============================] - 10s 199ms/step - loss: 0.3858 - accuracy: 0.8709\n",
            "Epoch 72/200\n",
            "50/50 [==============================] - 10s 200ms/step - loss: 0.3901 - accuracy: 0.8702\n",
            "Epoch 73/200\n",
            "50/50 [==============================] - 10s 199ms/step - loss: 0.3782 - accuracy: 0.8738\n",
            "Epoch 74/200\n",
            "50/50 [==============================] - 10s 201ms/step - loss: 0.3662 - accuracy: 0.8755\n",
            "Epoch 75/200\n",
            "50/50 [==============================] - 10s 199ms/step - loss: 0.3670 - accuracy: 0.8757\n",
            "Epoch 76/200\n",
            "50/50 [==============================] - 10s 198ms/step - loss: 0.3959 - accuracy: 0.8755\n",
            "Epoch 77/200\n",
            "50/50 [==============================] - 10s 199ms/step - loss: 0.3562 - accuracy: 0.8788\n",
            "Epoch 78/200\n",
            "50/50 [==============================] - 10s 199ms/step - loss: 0.3539 - accuracy: 0.8789\n",
            "Epoch 79/200\n",
            "50/50 [==============================] - 10s 200ms/step - loss: 0.3430 - accuracy: 0.8833\n",
            "Epoch 80/200\n",
            "50/50 [==============================] - 10s 199ms/step - loss: 0.3470 - accuracy: 0.8807\n",
            "Epoch 81/200\n",
            "50/50 [==============================] - 10s 198ms/step - loss: 0.3453 - accuracy: 0.8833\n",
            "Epoch 82/200\n",
            "50/50 [==============================] - 10s 199ms/step - loss: 0.3372 - accuracy: 0.8857\n",
            "Epoch 83/200\n",
            "50/50 [==============================] - 10s 200ms/step - loss: 0.3344 - accuracy: 0.8863\n",
            "Epoch 84/200\n",
            "50/50 [==============================] - 10s 199ms/step - loss: 0.3273 - accuracy: 0.8862\n",
            "Epoch 85/200\n",
            "50/50 [==============================] - 10s 199ms/step - loss: 0.3306 - accuracy: 0.8862\n",
            "Epoch 86/200\n",
            "50/50 [==============================] - 10s 198ms/step - loss: 0.3253 - accuracy: 0.8896\n",
            "Epoch 87/200\n",
            "50/50 [==============================] - 10s 199ms/step - loss: 0.3208 - accuracy: 0.8880\n",
            "Epoch 88/200\n",
            "50/50 [==============================] - 10s 201ms/step - loss: 0.3167 - accuracy: 0.8913\n",
            "Epoch 89/200\n",
            "50/50 [==============================] - 10s 198ms/step - loss: 0.3250 - accuracy: 0.8890\n",
            "Epoch 90/200\n",
            "50/50 [==============================] - 10s 200ms/step - loss: 0.3151 - accuracy: 0.8919\n",
            "Epoch 91/200\n",
            "50/50 [==============================] - 10s 200ms/step - loss: 0.3131 - accuracy: 0.8909\n",
            "Epoch 92/200\n",
            "50/50 [==============================] - 10s 201ms/step - loss: 0.3036 - accuracy: 0.8939\n",
            "Epoch 93/200\n",
            "50/50 [==============================] - 10s 200ms/step - loss: 0.3093 - accuracy: 0.8926\n",
            "Epoch 94/200\n",
            "50/50 [==============================] - 10s 200ms/step - loss: 0.3038 - accuracy: 0.8930\n",
            "Epoch 95/200\n",
            "50/50 [==============================] - 10s 200ms/step - loss: 0.3055 - accuracy: 0.8927\n",
            "Epoch 96/200\n",
            "50/50 [==============================] - 10s 200ms/step - loss: 0.3035 - accuracy: 0.8930\n",
            "Epoch 97/200\n",
            "50/50 [==============================] - 10s 199ms/step - loss: 0.2988 - accuracy: 0.8937\n",
            "Epoch 98/200\n",
            "50/50 [==============================] - 10s 200ms/step - loss: 0.2960 - accuracy: 0.8948\n",
            "Epoch 99/200\n",
            "50/50 [==============================] - 10s 200ms/step - loss: 0.2983 - accuracy: 0.8950\n",
            "Epoch 100/200\n",
            "50/50 [==============================] - 10s 199ms/step - loss: 0.2992 - accuracy: 0.8952\n",
            "Epoch 101/200\n",
            "50/50 [==============================] - 10s 200ms/step - loss: 0.2882 - accuracy: 0.8979\n",
            "Epoch 102/200\n",
            "50/50 [==============================] - 10s 200ms/step - loss: 0.2924 - accuracy: 0.8962\n",
            "Epoch 103/200\n",
            "50/50 [==============================] - 10s 200ms/step - loss: 0.2888 - accuracy: 0.8976\n",
            "Epoch 104/200\n",
            "50/50 [==============================] - 10s 199ms/step - loss: 0.2885 - accuracy: 0.8954\n",
            "Epoch 105/200\n",
            "50/50 [==============================] - 10s 200ms/step - loss: 0.2857 - accuracy: 0.8976\n",
            "Epoch 106/200\n",
            "50/50 [==============================] - 10s 200ms/step - loss: 0.2837 - accuracy: 0.8973\n",
            "Epoch 107/200\n",
            "50/50 [==============================] - 10s 199ms/step - loss: 0.2817 - accuracy: 0.8987\n",
            "Epoch 108/200\n",
            "50/50 [==============================] - 10s 198ms/step - loss: 0.2783 - accuracy: 0.8993\n",
            "Epoch 109/200\n",
            "50/50 [==============================] - 10s 199ms/step - loss: 0.2776 - accuracy: 0.8994\n",
            "Epoch 110/200\n",
            "50/50 [==============================] - 10s 199ms/step - loss: 0.2759 - accuracy: 0.9001\n",
            "Epoch 111/200\n",
            "50/50 [==============================] - 10s 200ms/step - loss: 0.2784 - accuracy: 0.8977\n",
            "Epoch 112/200\n",
            "50/50 [==============================] - 10s 200ms/step - loss: 0.2730 - accuracy: 0.9015\n",
            "Epoch 113/200\n",
            "50/50 [==============================] - 10s 199ms/step - loss: 0.2741 - accuracy: 0.8984\n",
            "Epoch 114/200\n",
            "50/50 [==============================] - 10s 201ms/step - loss: 0.2746 - accuracy: 0.9010\n",
            "Epoch 115/200\n",
            "50/50 [==============================] - 10s 200ms/step - loss: 0.2746 - accuracy: 0.8992\n",
            "Epoch 116/200\n",
            "50/50 [==============================] - 10s 198ms/step - loss: 0.2705 - accuracy: 0.9006\n",
            "Epoch 117/200\n",
            "50/50 [==============================] - 10s 200ms/step - loss: 0.2689 - accuracy: 0.8999\n",
            "Epoch 118/200\n",
            "50/50 [==============================] - 10s 200ms/step - loss: 0.2799 - accuracy: 0.9003\n",
            "Epoch 119/200\n",
            "50/50 [==============================] - 10s 199ms/step - loss: 0.2626 - accuracy: 0.9043\n",
            "Epoch 120/200\n",
            "50/50 [==============================] - 10s 199ms/step - loss: 0.2667 - accuracy: 0.9020\n",
            "Epoch 121/200\n",
            "50/50 [==============================] - 10s 200ms/step - loss: 0.2689 - accuracy: 0.9011\n",
            "Epoch 122/200\n",
            "50/50 [==============================] - 10s 201ms/step - loss: 0.2687 - accuracy: 0.9015\n",
            "Epoch 123/200\n",
            "50/50 [==============================] - 10s 201ms/step - loss: 0.2640 - accuracy: 0.9024\n",
            "Epoch 124/200\n",
            "50/50 [==============================] - 10s 199ms/step - loss: 0.2625 - accuracy: 0.9031\n",
            "Epoch 125/200\n",
            "50/50 [==============================] - 10s 200ms/step - loss: 0.2634 - accuracy: 0.9031\n",
            "Epoch 126/200\n",
            "50/50 [==============================] - 10s 200ms/step - loss: 0.2622 - accuracy: 0.9036\n",
            "Epoch 127/200\n",
            "50/50 [==============================] - 10s 199ms/step - loss: 0.2617 - accuracy: 0.9041\n",
            "Epoch 128/200\n",
            "50/50 [==============================] - 10s 199ms/step - loss: 0.2632 - accuracy: 0.9021\n",
            "Epoch 129/200\n",
            "50/50 [==============================] - 10s 201ms/step - loss: 0.2585 - accuracy: 0.9033\n",
            "Epoch 130/200\n",
            "50/50 [==============================] - 10s 200ms/step - loss: 0.2567 - accuracy: 0.9044\n",
            "Epoch 131/200\n",
            "50/50 [==============================] - 10s 199ms/step - loss: 0.2556 - accuracy: 0.9041\n",
            "Epoch 132/200\n",
            "50/50 [==============================] - 10s 201ms/step - loss: 0.2574 - accuracy: 0.9035\n",
            "Epoch 133/200\n",
            "50/50 [==============================] - 10s 201ms/step - loss: 0.2549 - accuracy: 0.9046\n",
            "Epoch 134/200\n",
            "50/50 [==============================] - 10s 199ms/step - loss: 0.2578 - accuracy: 0.9031\n",
            "Epoch 135/200\n",
            "50/50 [==============================] - 10s 199ms/step - loss: 0.2550 - accuracy: 0.9032\n",
            "Epoch 136/200\n",
            "50/50 [==============================] - 10s 199ms/step - loss: 0.2534 - accuracy: 0.9055\n",
            "Epoch 137/200\n",
            "50/50 [==============================] - 10s 202ms/step - loss: 0.2516 - accuracy: 0.9058\n",
            "Epoch 138/200\n",
            "50/50 [==============================] - 10s 199ms/step - loss: 0.2489 - accuracy: 0.9060\n",
            "Epoch 139/200\n",
            "50/50 [==============================] - 10s 200ms/step - loss: 0.2505 - accuracy: 0.9063\n",
            "Epoch 140/200\n",
            "50/50 [==============================] - 10s 200ms/step - loss: 0.2486 - accuracy: 0.9057\n",
            "Epoch 141/200\n",
            "50/50 [==============================] - 10s 201ms/step - loss: 0.2505 - accuracy: 0.9047\n",
            "Epoch 142/200\n",
            "50/50 [==============================] - 10s 199ms/step - loss: 0.2528 - accuracy: 0.9048\n",
            "Epoch 143/200\n",
            "50/50 [==============================] - 10s 199ms/step - loss: 0.2472 - accuracy: 0.9055\n",
            "Epoch 144/200\n",
            "50/50 [==============================] - 10s 202ms/step - loss: 0.2504 - accuracy: 0.9055\n",
            "Epoch 145/200\n",
            "50/50 [==============================] - 10s 202ms/step - loss: 0.2446 - accuracy: 0.9077\n",
            "Epoch 146/200\n",
            "50/50 [==============================] - 10s 200ms/step - loss: 0.2456 - accuracy: 0.9062\n",
            "Epoch 147/200\n",
            "50/50 [==============================] - 10s 200ms/step - loss: 0.2455 - accuracy: 0.9059\n",
            "Epoch 148/200\n",
            "50/50 [==============================] - 10s 199ms/step - loss: 0.2463 - accuracy: 0.9054\n",
            "Epoch 149/200\n",
            "50/50 [==============================] - 10s 200ms/step - loss: 0.2456 - accuracy: 0.9055\n",
            "Epoch 150/200\n",
            "50/50 [==============================] - 10s 200ms/step - loss: 0.2405 - accuracy: 0.9076\n",
            "Epoch 151/200\n",
            "50/50 [==============================] - 10s 199ms/step - loss: 0.2417 - accuracy: 0.9085\n",
            "Epoch 152/200\n",
            "50/50 [==============================] - 10s 201ms/step - loss: 0.2449 - accuracy: 0.9057\n",
            "Epoch 153/200\n",
            "50/50 [==============================] - 10s 200ms/step - loss: 0.2408 - accuracy: 0.9082\n",
            "Epoch 154/200\n",
            "50/50 [==============================] - 10s 200ms/step - loss: 0.2410 - accuracy: 0.9075\n",
            "Epoch 155/200\n",
            "50/50 [==============================] - 10s 201ms/step - loss: 0.2396 - accuracy: 0.9074\n",
            "Epoch 156/200\n",
            "50/50 [==============================] - 10s 200ms/step - loss: 0.2372 - accuracy: 0.9089\n",
            "Epoch 157/200\n",
            "50/50 [==============================] - 10s 200ms/step - loss: 0.2430 - accuracy: 0.9058\n",
            "Epoch 158/200\n",
            "50/50 [==============================] - 10s 201ms/step - loss: 0.2408 - accuracy: 0.9062\n",
            "Epoch 159/200\n",
            "50/50 [==============================] - 10s 201ms/step - loss: 0.2338 - accuracy: 0.9098\n",
            "Epoch 160/200\n",
            "50/50 [==============================] - 10s 201ms/step - loss: 0.2383 - accuracy: 0.9082\n",
            "Epoch 161/200\n",
            "50/50 [==============================] - 10s 202ms/step - loss: 0.2405 - accuracy: 0.9071\n",
            "Epoch 162/200\n",
            "50/50 [==============================] - 10s 202ms/step - loss: 0.2353 - accuracy: 0.9077\n",
            "Epoch 163/200\n",
            "50/50 [==============================] - 10s 200ms/step - loss: 0.2362 - accuracy: 0.9079\n",
            "Epoch 164/200\n",
            "50/50 [==============================] - 10s 201ms/step - loss: 0.2361 - accuracy: 0.9082\n",
            "Epoch 165/200\n",
            "50/50 [==============================] - 10s 201ms/step - loss: 0.2340 - accuracy: 0.9092\n",
            "Epoch 166/200\n",
            "50/50 [==============================] - 10s 202ms/step - loss: 0.2318 - accuracy: 0.9090\n",
            "Epoch 167/200\n",
            "50/50 [==============================] - 10s 202ms/step - loss: 0.2337 - accuracy: 0.9087\n",
            "Epoch 168/200\n",
            "50/50 [==============================] - 10s 202ms/step - loss: 0.2361 - accuracy: 0.9088\n",
            "Epoch 169/200\n",
            "50/50 [==============================] - 10s 201ms/step - loss: 0.2378 - accuracy: 0.9089\n",
            "Epoch 170/200\n",
            "50/50 [==============================] - 10s 201ms/step - loss: 0.2326 - accuracy: 0.9095\n",
            "Epoch 171/200\n",
            "50/50 [==============================] - 10s 200ms/step - loss: 0.2319 - accuracy: 0.9096\n",
            "Epoch 172/200\n",
            "50/50 [==============================] - 10s 201ms/step - loss: 0.2383 - accuracy: 0.9061\n",
            "Epoch 173/200\n",
            "50/50 [==============================] - 10s 202ms/step - loss: 0.2314 - accuracy: 0.9093\n",
            "Epoch 174/200\n",
            "50/50 [==============================] - 10s 201ms/step - loss: 0.2322 - accuracy: 0.9084\n",
            "Epoch 175/200\n",
            "50/50 [==============================] - 10s 202ms/step - loss: 0.2332 - accuracy: 0.9082\n",
            "Epoch 176/200\n",
            "50/50 [==============================] - 10s 201ms/step - loss: 0.2325 - accuracy: 0.9095\n",
            "Epoch 177/200\n",
            "50/50 [==============================] - 10s 201ms/step - loss: 0.2339 - accuracy: 0.9078\n",
            "Epoch 178/200\n",
            "50/50 [==============================] - 10s 201ms/step - loss: 0.2281 - accuracy: 0.9106\n",
            "Epoch 179/200\n",
            "50/50 [==============================] - 10s 200ms/step - loss: 0.2316 - accuracy: 0.9093\n",
            "Epoch 180/200\n",
            "50/50 [==============================] - 10s 202ms/step - loss: 0.2281 - accuracy: 0.9090\n",
            "Epoch 181/200\n",
            "50/50 [==============================] - 10s 201ms/step - loss: 0.2288 - accuracy: 0.9094\n",
            "Epoch 182/200\n",
            "50/50 [==============================] - 10s 201ms/step - loss: 0.2283 - accuracy: 0.9107\n",
            "Epoch 183/200\n",
            "50/50 [==============================] - 10s 200ms/step - loss: 0.2313 - accuracy: 0.9071\n",
            "Epoch 184/200\n",
            "50/50 [==============================] - 10s 201ms/step - loss: 0.2329 - accuracy: 0.9073\n",
            "Epoch 185/200\n",
            "50/50 [==============================] - 10s 202ms/step - loss: 0.2252 - accuracy: 0.9104\n",
            "Epoch 186/200\n",
            "50/50 [==============================] - 10s 201ms/step - loss: 0.2323 - accuracy: 0.9079\n",
            "Epoch 187/200\n",
            "50/50 [==============================] - 10s 202ms/step - loss: 0.2275 - accuracy: 0.9085\n",
            "Epoch 188/200\n",
            "50/50 [==============================] - 10s 202ms/step - loss: 0.2291 - accuracy: 0.9087\n",
            "Epoch 189/200\n",
            "50/50 [==============================] - 10s 202ms/step - loss: 0.2282 - accuracy: 0.9085\n",
            "Epoch 190/200\n",
            "50/50 [==============================] - 10s 202ms/step - loss: 0.2251 - accuracy: 0.9101\n",
            "Epoch 191/200\n",
            "50/50 [==============================] - 10s 201ms/step - loss: 0.2244 - accuracy: 0.9097\n",
            "Epoch 192/200\n",
            "50/50 [==============================] - 10s 203ms/step - loss: 0.2265 - accuracy: 0.9108\n",
            "Epoch 193/200\n",
            "50/50 [==============================] - 10s 201ms/step - loss: 0.2266 - accuracy: 0.9097\n",
            "Epoch 194/200\n",
            "50/50 [==============================] - 10s 201ms/step - loss: 0.2266 - accuracy: 0.9095\n",
            "Epoch 195/200\n",
            "50/50 [==============================] - 10s 202ms/step - loss: 0.2295 - accuracy: 0.9088\n",
            "Epoch 196/200\n",
            "50/50 [==============================] - 10s 201ms/step - loss: 0.2255 - accuracy: 0.9090\n",
            "Epoch 197/200\n",
            "50/50 [==============================] - 10s 202ms/step - loss: 0.2277 - accuracy: 0.9090\n",
            "Epoch 198/200\n",
            "50/50 [==============================] - 10s 201ms/step - loss: 0.2246 - accuracy: 0.9106\n",
            "Epoch 199/200\n",
            "50/50 [==============================] - 10s 200ms/step - loss: 0.2236 - accuracy: 0.9114\n",
            "Epoch 200/200\n",
            "50/50 [==============================] - 10s 201ms/step - loss: 0.2236 - accuracy: 0.9094\n"
          ],
          "name": "stdout"
        }
      ]
    },
    {
      "cell_type": "code",
      "metadata": {
        "id": "km4drpIOV1SH"
      },
      "source": [
        "plt.plot(hist.history[\"accuracy\"])\n",
        "plt.xlabel(\"# Number of Epochs\")\n",
        "plt.ylabel(\"The Accuracy\")\n",
        "plt.title(\"Number of Epochs vs Accuracy\")\n",
        "plt.show()\n",
        "\n",
        "plt.plot(hist.history[\"loss\"])\n",
        "plt.xlabel(\"# Number of Epochs\")\n",
        "plt.ylabel(\"The Loss\")\n",
        "plt.title(\"Number of Epochs vs Loss\")\n",
        "plt.show()"
      ],
      "execution_count": null,
      "outputs": []
    },
    {
      "cell_type": "code",
      "metadata": {
        "id": "_h75pgaub6vg"
      },
      "source": [
        "model.save_weights(\"/content/drive/My Drive/RepSession_DSI/Data_Image_Captioning_Flickr8K/Flickr_Data/Result/model_weights.h5\")"
      ],
      "execution_count": null,
      "outputs": []
    },
    {
      "cell_type": "code",
      "metadata": {
        "id": "HknEw0oz549R"
      },
      "source": [
        "model.save(\"/content/drive/My Drive/RepSession_DSI/Data_Image_Captioning_Flickr8K/Flickr_Data/Result/model.h5\")"
      ],
      "execution_count": null,
      "outputs": []
    },
    {
      "cell_type": "code",
      "metadata": {
        "id": "aOU-H9F7DehG"
      },
      "source": [
        "model = load_model(\"/content/drive/My Drive/RepSession_DSI/Data_Image_Captioning_Flickr8K/Flickr_Data/Result/model.h5\")"
      ],
      "execution_count": null,
      "outputs": []
    },
    {
      "cell_type": "code",
      "metadata": {
        "id": "5VT6EVB3b8nq"
      },
      "source": [
        "def preprocessing(img_path):\n",
        "    im = image.load_img(img_path, target_size=(224,224,3))\n",
        "    im = image.img_to_array(im)\n",
        "    im = np.expand_dims(im, axis=0)\n",
        "    return im"
      ],
      "execution_count": null,
      "outputs": []
    },
    {
      "cell_type": "code",
      "metadata": {
        "id": "8Z10E5bob9qI"
      },
      "source": [
        "def get_encoding(model, img):\n",
        "    image = preprocessing(img)\n",
        "    pred = model.predict(image).reshape(2048)\n",
        "    return pred"
      ],
      "execution_count": null,
      "outputs": []
    },
    {
      "cell_type": "code",
      "metadata": {
        "id": "Fhs1Tk5Db-su"
      },
      "source": [
        "resnet = ResNet50(include_top=False,weights='imagenet',input_shape=(224,224,3),pooling='avg')"
      ],
      "execution_count": null,
      "outputs": []
    },
    {
      "cell_type": "code",
      "metadata": {
        "id": "kU-T6LhvcQUp"
      },
      "source": [
        "def predict_captions(image):\n",
        "    start_word = [\"<start>\"]\n",
        "    while True:\n",
        "        par_caps = [word_2_indices[i] for i in start_word]\n",
        "        par_caps = sequence.pad_sequences([par_caps], maxlen=max_len, padding='post')\n",
        "        preds = model.predict([np.array([image]), np.array(par_caps)])\n",
        "        word_pred = indices_2_word[np.argmax(preds[0])]\n",
        "        start_word.append(word_pred)\n",
        "        \n",
        "        if word_pred == \"<end>\" or len(start_word) > max_len:\n",
        "            break\n",
        "            \n",
        "    return ' '.join(start_word[1:-1])"
      ],
      "execution_count": null,
      "outputs": []
    },
    {
      "cell_type": "code",
      "metadata": {
        "id": "600l86d5cAYc"
      },
      "source": [
        "img = [\"/content/drive/My Drive/RepSession_DSI/Data_Image_Captioning_Flickr8K/Flickr_Data/Images/1453366750_6e8cf601bf.jpg\"\n",
        "img = \"/content/drive/My Drive/RepSession_DSI/Data_Image_Captioning_Flickr8K/Flickr_Data/Images/2090545563_a4e66ec76b.jpg\"\n",
        "\n",
        "test_img = get_encoding(resnet, img)"
      ],
      "execution_count": null,
      "outputs": []
    },
    {
      "cell_type": "code",
      "metadata": {
        "id": "l_E6eCuzcR66",
        "colab": {
          "base_uri": "https://localhost:8080/",
          "height": 367
        },
        "outputId": "798a1011-6446-4ab4-a14d-dddbe373ce16"
      },
      "source": [
        "Argmax_Search = predict_captions(test_img)\n",
        "z = Image(filename=img)\n",
        "display(z)\n",
        "\n",
        "print(Argmax_Search)"
      ],
      "execution_count": null,
      "outputs": [
        {
          "output_type": "display_data",
          "data": {
            "image/jpeg": "[encoded data removed]",
            "text/plain": [
              "<IPython.core.display.Image object>"
            ]
          },
          "metadata": {
            "tags": []
          }
        },
        {
          "output_type": "stream",
          "text": [
            "A young girl in a black shirt is playing on a wall .\n"
          ],
          "name": "stdout"
        }
      ]
    }
  ]
}